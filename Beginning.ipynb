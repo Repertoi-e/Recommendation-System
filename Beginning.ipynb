{
 "cells": [
  {
   "cell_type": "code",
   "execution_count": 10,
   "metadata": {},
   "outputs": [],
   "source": [
    "import pandas as pd\n",
    "import numpy as np\n",
    "\n",
    "from sklearn.model_selection import train_test_split\n",
    "\n",
    "import pickle\n",
    "\n",
    "import torch\n",
    "import torch.nn as nn\n",
    "import torch.optim as optim\n",
    "from torch.utils.data import DataLoader, Dataset\n",
    "\n",
    "from sklearn.feature_extraction.text import TfidfVectorizer\n",
    "from sklearn.metrics.pairwise import linear_kernel\n",
    "\n",
    "import random"
   ]
  },
  {
   "cell_type": "code",
   "execution_count": 11,
   "metadata": {},
   "outputs": [],
   "source": [
    "# Dataset: RetailRocket, https://www.kaggle.com/datasets/retailrocket/ecommerce-dataset\n",
    "# Cleaning of events done in separate notebook!\n",
    "with open('events_df_cleaned.df', 'rb') as f:\n",
    "    events = pickle.load(f)\n",
    "\n",
    "item_properties1 = pd.read_csv('retail_rocket/item_properties_part1.csv')\n",
    "item_properties2 = pd.read_csv('retail_rocket/item_properties_part2.csv')\n",
    "item_properties = pd.concat([item_properties1, item_properties2], ignore_index=True)\n",
    "\n",
    "del item_properties1, item_properties2\n",
    "\n",
    "category_tree = pd.read_csv('retail_rocket/category_tree.csv')"
   ]
  },
  {
   "cell_type": "code",
   "execution_count": 12,
   "metadata": {},
   "outputs": [
    {
     "data": {
      "text/plain": [
       "((20282, 13), (20275902, 4), (1669, 2))"
      ]
     },
     "execution_count": 12,
     "metadata": {},
     "output_type": "execute_result"
    }
   ],
   "source": [
    "events.shape, item_properties.shape, category_tree.shape"
   ]
  },
  {
   "cell_type": "code",
   "execution_count": 13,
   "metadata": {},
   "outputs": [
    {
     "data": {
      "text/html": [
       "<div>\n",
       "<style scoped>\n",
       "    .dataframe tbody tr th:only-of-type {\n",
       "        vertical-align: middle;\n",
       "    }\n",
       "\n",
       "    .dataframe tbody tr th {\n",
       "        vertical-align: top;\n",
       "    }\n",
       "\n",
       "    .dataframe thead th {\n",
       "        text-align: right;\n",
       "    }\n",
       "</style>\n",
       "<table border=\"1\" class=\"dataframe\">\n",
       "  <thead>\n",
       "    <tr style=\"text-align: right;\">\n",
       "      <th></th>\n",
       "      <th>timestamp</th>\n",
       "      <th>visitorid</th>\n",
       "      <th>event</th>\n",
       "      <th>itemid</th>\n",
       "      <th>transactionid</th>\n",
       "      <th>date_time</th>\n",
       "      <th>day_of_week</th>\n",
       "      <th>hour</th>\n",
       "      <th>total_events_user</th>\n",
       "      <th>total_events_item</th>\n",
       "      <th>unique_items_interacted</th>\n",
       "      <th>unique_users_interacted</th>\n",
       "      <th>interaction_value</th>\n",
       "    </tr>\n",
       "  </thead>\n",
       "  <tbody>\n",
       "    <tr>\n",
       "      <th>0</th>\n",
       "      <td>1433222276276</td>\n",
       "      <td>599528</td>\n",
       "      <td>transaction</td>\n",
       "      <td>356475</td>\n",
       "      <td>4000.0</td>\n",
       "      <td>2015-06-02 05:17:56.276</td>\n",
       "      <td>Tuesday</td>\n",
       "      <td>5</td>\n",
       "      <td>1</td>\n",
       "      <td>2</td>\n",
       "      <td>1</td>\n",
       "      <td>2</td>\n",
       "      <td>0.8</td>\n",
       "    </tr>\n",
       "    <tr>\n",
       "      <th>1</th>\n",
       "      <td>1433193500981</td>\n",
       "      <td>121688</td>\n",
       "      <td>transaction</td>\n",
       "      <td>15335</td>\n",
       "      <td>11117.0</td>\n",
       "      <td>2015-06-01 21:18:20.981</td>\n",
       "      <td>Monday</td>\n",
       "      <td>21</td>\n",
       "      <td>11</td>\n",
       "      <td>1</td>\n",
       "      <td>11</td>\n",
       "      <td>1</td>\n",
       "      <td>0.8</td>\n",
       "    </tr>\n",
       "    <tr>\n",
       "      <th>2</th>\n",
       "      <td>1433193915008</td>\n",
       "      <td>552148</td>\n",
       "      <td>transaction</td>\n",
       "      <td>81345</td>\n",
       "      <td>5444.0</td>\n",
       "      <td>2015-06-01 21:25:15.008</td>\n",
       "      <td>Monday</td>\n",
       "      <td>21</td>\n",
       "      <td>1</td>\n",
       "      <td>1</td>\n",
       "      <td>1</td>\n",
       "      <td>1</td>\n",
       "      <td>0.8</td>\n",
       "    </tr>\n",
       "  </tbody>\n",
       "</table>\n",
       "</div>"
      ],
      "text/plain": [
       "       timestamp  visitorid        event  itemid  transactionid  \\\n",
       "0  1433222276276     599528  transaction  356475         4000.0   \n",
       "1  1433193500981     121688  transaction   15335        11117.0   \n",
       "2  1433193915008     552148  transaction   81345         5444.0   \n",
       "\n",
       "                date_time day_of_week  hour  total_events_user  \\\n",
       "0 2015-06-02 05:17:56.276     Tuesday     5                  1   \n",
       "1 2015-06-01 21:18:20.981      Monday    21                 11   \n",
       "2 2015-06-01 21:25:15.008      Monday    21                  1   \n",
       "\n",
       "   total_events_item  unique_items_interacted  unique_users_interacted  \\\n",
       "0                  2                        1                        2   \n",
       "1                  1                       11                        1   \n",
       "2                  1                        1                        1   \n",
       "\n",
       "   interaction_value  \n",
       "0                0.8  \n",
       "1                0.8  \n",
       "2                0.8  "
      ]
     },
     "execution_count": 13,
     "metadata": {},
     "output_type": "execute_result"
    }
   ],
   "source": [
    "events.head(3)"
   ]
  },
  {
   "cell_type": "code",
   "execution_count": 14,
   "metadata": {},
   "outputs": [
    {
     "data": {
      "text/html": [
       "<div>\n",
       "<style scoped>\n",
       "    .dataframe tbody tr th:only-of-type {\n",
       "        vertical-align: middle;\n",
       "    }\n",
       "\n",
       "    .dataframe tbody tr th {\n",
       "        vertical-align: top;\n",
       "    }\n",
       "\n",
       "    .dataframe thead th {\n",
       "        text-align: right;\n",
       "    }\n",
       "</style>\n",
       "<table border=\"1\" class=\"dataframe\">\n",
       "  <thead>\n",
       "    <tr style=\"text-align: right;\">\n",
       "      <th></th>\n",
       "      <th>timestamp</th>\n",
       "      <th>itemid</th>\n",
       "      <th>property</th>\n",
       "      <th>value</th>\n",
       "    </tr>\n",
       "  </thead>\n",
       "  <tbody>\n",
       "    <tr>\n",
       "      <th>0</th>\n",
       "      <td>1435460400000</td>\n",
       "      <td>460429</td>\n",
       "      <td>categoryid</td>\n",
       "      <td>1338</td>\n",
       "    </tr>\n",
       "    <tr>\n",
       "      <th>1</th>\n",
       "      <td>1441508400000</td>\n",
       "      <td>206783</td>\n",
       "      <td>888</td>\n",
       "      <td>1116713 960601 n277.200</td>\n",
       "    </tr>\n",
       "    <tr>\n",
       "      <th>2</th>\n",
       "      <td>1439089200000</td>\n",
       "      <td>395014</td>\n",
       "      <td>400</td>\n",
       "      <td>n552.000 639502 n720.000 424566</td>\n",
       "    </tr>\n",
       "  </tbody>\n",
       "</table>\n",
       "</div>"
      ],
      "text/plain": [
       "       timestamp  itemid    property                            value\n",
       "0  1435460400000  460429  categoryid                             1338\n",
       "1  1441508400000  206783         888          1116713 960601 n277.200\n",
       "2  1439089200000  395014         400  n552.000 639502 n720.000 424566"
      ]
     },
     "execution_count": 14,
     "metadata": {},
     "output_type": "execute_result"
    }
   ],
   "source": [
    "item_properties.head(3)"
   ]
  },
  {
   "cell_type": "code",
   "execution_count": 15,
   "metadata": {},
   "outputs": [
    {
     "data": {
      "text/html": [
       "<div>\n",
       "<style scoped>\n",
       "    .dataframe tbody tr th:only-of-type {\n",
       "        vertical-align: middle;\n",
       "    }\n",
       "\n",
       "    .dataframe tbody tr th {\n",
       "        vertical-align: top;\n",
       "    }\n",
       "\n",
       "    .dataframe thead th {\n",
       "        text-align: right;\n",
       "    }\n",
       "</style>\n",
       "<table border=\"1\" class=\"dataframe\">\n",
       "  <thead>\n",
       "    <tr style=\"text-align: right;\">\n",
       "      <th></th>\n",
       "      <th>categoryid</th>\n",
       "      <th>parentid</th>\n",
       "    </tr>\n",
       "  </thead>\n",
       "  <tbody>\n",
       "    <tr>\n",
       "      <th>0</th>\n",
       "      <td>1016</td>\n",
       "      <td>213.0</td>\n",
       "    </tr>\n",
       "    <tr>\n",
       "      <th>1</th>\n",
       "      <td>809</td>\n",
       "      <td>169.0</td>\n",
       "    </tr>\n",
       "    <tr>\n",
       "      <th>2</th>\n",
       "      <td>570</td>\n",
       "      <td>9.0</td>\n",
       "    </tr>\n",
       "  </tbody>\n",
       "</table>\n",
       "</div>"
      ],
      "text/plain": [
       "   categoryid  parentid\n",
       "0        1016     213.0\n",
       "1         809     169.0\n",
       "2         570       9.0"
      ]
     },
     "execution_count": 15,
     "metadata": {},
     "output_type": "execute_result"
    }
   ],
   "source": [
    "category_tree.head(3)"
   ]
  },
  {
   "cell_type": "markdown",
   "metadata": {},
   "source": [
    "# Feature Engineering"
   ]
  },
  {
   "cell_type": "code",
   "execution_count": 16,
   "metadata": {},
   "outputs": [],
   "source": [
    "# Create user-item interaction matrix\n",
    "interaction_matrix = events.pivot_table(index='visitorid', columns='itemid', values='event', aggfunc='count').fillna(0)"
   ]
  },
  {
   "cell_type": "code",
   "execution_count": 17,
   "metadata": {},
   "outputs": [
    {
     "data": {
      "text/plain": [
       "array([1., 1., 2., ..., 2., 1., 1.])"
      ]
     },
     "execution_count": 17,
     "metadata": {},
     "output_type": "execute_result"
    }
   ],
   "source": [
    "sum(interaction_matrix.values)"
   ]
  },
  {
   "cell_type": "code",
   "execution_count": 18,
   "metadata": {},
   "outputs": [],
   "source": [
    "# Encode event types into numerical values\n",
    "event_type_mapping = {'view': 1, 'addtocart': 5, 'transaction': 10} # Give proportial weights to interactivity\n",
    "events['event'] = events['event'].map(event_type_mapping)"
   ]
  },
  {
   "cell_type": "code",
   "execution_count": 19,
   "metadata": {},
   "outputs": [
    {
     "data": {
      "text/html": [
       "<div>\n",
       "<style scoped>\n",
       "    .dataframe tbody tr th:only-of-type {\n",
       "        vertical-align: middle;\n",
       "    }\n",
       "\n",
       "    .dataframe tbody tr th {\n",
       "        vertical-align: top;\n",
       "    }\n",
       "\n",
       "    .dataframe thead th {\n",
       "        text-align: right;\n",
       "    }\n",
       "</style>\n",
       "<table border=\"1\" class=\"dataframe\">\n",
       "  <thead>\n",
       "    <tr style=\"text-align: right;\">\n",
       "      <th></th>\n",
       "      <th>timestamp</th>\n",
       "      <th>visitorid</th>\n",
       "      <th>event</th>\n",
       "      <th>itemid</th>\n",
       "      <th>transactionid</th>\n",
       "      <th>date_time</th>\n",
       "      <th>day_of_week</th>\n",
       "      <th>hour</th>\n",
       "      <th>total_events_user</th>\n",
       "      <th>total_events_item</th>\n",
       "      <th>unique_items_interacted</th>\n",
       "      <th>unique_users_interacted</th>\n",
       "      <th>interaction_value</th>\n",
       "    </tr>\n",
       "  </thead>\n",
       "  <tbody>\n",
       "    <tr>\n",
       "      <th>0</th>\n",
       "      <td>1433222276276</td>\n",
       "      <td>599528</td>\n",
       "      <td>10</td>\n",
       "      <td>356475</td>\n",
       "      <td>4000.0</td>\n",
       "      <td>2015-06-02 05:17:56.276</td>\n",
       "      <td>Tuesday</td>\n",
       "      <td>5</td>\n",
       "      <td>1</td>\n",
       "      <td>2</td>\n",
       "      <td>1</td>\n",
       "      <td>2</td>\n",
       "      <td>0.8</td>\n",
       "    </tr>\n",
       "    <tr>\n",
       "      <th>1</th>\n",
       "      <td>1433193500981</td>\n",
       "      <td>121688</td>\n",
       "      <td>10</td>\n",
       "      <td>15335</td>\n",
       "      <td>11117.0</td>\n",
       "      <td>2015-06-01 21:18:20.981</td>\n",
       "      <td>Monday</td>\n",
       "      <td>21</td>\n",
       "      <td>11</td>\n",
       "      <td>1</td>\n",
       "      <td>11</td>\n",
       "      <td>1</td>\n",
       "      <td>0.8</td>\n",
       "    </tr>\n",
       "    <tr>\n",
       "      <th>2</th>\n",
       "      <td>1433193915008</td>\n",
       "      <td>552148</td>\n",
       "      <td>10</td>\n",
       "      <td>81345</td>\n",
       "      <td>5444.0</td>\n",
       "      <td>2015-06-01 21:25:15.008</td>\n",
       "      <td>Monday</td>\n",
       "      <td>21</td>\n",
       "      <td>1</td>\n",
       "      <td>1</td>\n",
       "      <td>1</td>\n",
       "      <td>1</td>\n",
       "      <td>0.8</td>\n",
       "    </tr>\n",
       "  </tbody>\n",
       "</table>\n",
       "</div>"
      ],
      "text/plain": [
       "       timestamp  visitorid  event  itemid  transactionid  \\\n",
       "0  1433222276276     599528     10  356475         4000.0   \n",
       "1  1433193500981     121688     10   15335        11117.0   \n",
       "2  1433193915008     552148     10   81345         5444.0   \n",
       "\n",
       "                date_time day_of_week  hour  total_events_user  \\\n",
       "0 2015-06-02 05:17:56.276     Tuesday     5                  1   \n",
       "1 2015-06-01 21:18:20.981      Monday    21                 11   \n",
       "2 2015-06-01 21:25:15.008      Monday    21                  1   \n",
       "\n",
       "   total_events_item  unique_items_interacted  unique_users_interacted  \\\n",
       "0                  2                        1                        2   \n",
       "1                  1                       11                        1   \n",
       "2                  1                        1                        1   \n",
       "\n",
       "   interaction_value  \n",
       "0                0.8  \n",
       "1                0.8  \n",
       "2                0.8  "
      ]
     },
     "execution_count": 19,
     "metadata": {},
     "output_type": "execute_result"
    }
   ],
   "source": [
    "events.head(3)"
   ]
  },
  {
   "cell_type": "code",
   "execution_count": 20,
   "metadata": {},
   "outputs": [],
   "source": [
    "user_history = events.groupby('visitorid')['itemid'].agg(list).reset_index()"
   ]
  },
  {
   "cell_type": "code",
   "execution_count": 21,
   "metadata": {},
   "outputs": [
    {
     "data": {
      "text/html": [
       "<div>\n",
       "<style scoped>\n",
       "    .dataframe tbody tr th:only-of-type {\n",
       "        vertical-align: middle;\n",
       "    }\n",
       "\n",
       "    .dataframe tbody tr th {\n",
       "        vertical-align: top;\n",
       "    }\n",
       "\n",
       "    .dataframe thead th {\n",
       "        text-align: right;\n",
       "    }\n",
       "</style>\n",
       "<table border=\"1\" class=\"dataframe\">\n",
       "  <thead>\n",
       "    <tr style=\"text-align: right;\">\n",
       "      <th></th>\n",
       "      <th>visitorid</th>\n",
       "      <th>itemid</th>\n",
       "    </tr>\n",
       "  </thead>\n",
       "  <tbody>\n",
       "    <tr>\n",
       "      <th>0</th>\n",
       "      <td>172</td>\n",
       "      <td>[465522, 10034]</td>\n",
       "    </tr>\n",
       "    <tr>\n",
       "      <th>1</th>\n",
       "      <td>186</td>\n",
       "      <td>[49029]</td>\n",
       "    </tr>\n",
       "    <tr>\n",
       "      <th>2</th>\n",
       "      <td>264</td>\n",
       "      <td>[459835, 161949]</td>\n",
       "    </tr>\n",
       "    <tr>\n",
       "      <th>3</th>\n",
       "      <td>419</td>\n",
       "      <td>[19278]</td>\n",
       "    </tr>\n",
       "    <tr>\n",
       "      <th>4</th>\n",
       "      <td>539</td>\n",
       "      <td>[94371]</td>\n",
       "    </tr>\n",
       "    <tr>\n",
       "      <th>...</th>\n",
       "      <td>...</td>\n",
       "      <td>...</td>\n",
       "    </tr>\n",
       "    <tr>\n",
       "      <th>11224</th>\n",
       "      <td>1406787</td>\n",
       "      <td>[336832]</td>\n",
       "    </tr>\n",
       "    <tr>\n",
       "      <th>11225</th>\n",
       "      <td>1406981</td>\n",
       "      <td>[436004]</td>\n",
       "    </tr>\n",
       "    <tr>\n",
       "      <th>11226</th>\n",
       "      <td>1407070</td>\n",
       "      <td>[215596]</td>\n",
       "    </tr>\n",
       "    <tr>\n",
       "      <th>11227</th>\n",
       "      <td>1407110</td>\n",
       "      <td>[360922]</td>\n",
       "    </tr>\n",
       "    <tr>\n",
       "      <th>11228</th>\n",
       "      <td>1407398</td>\n",
       "      <td>[218917]</td>\n",
       "    </tr>\n",
       "  </tbody>\n",
       "</table>\n",
       "<p>11229 rows × 2 columns</p>\n",
       "</div>"
      ],
      "text/plain": [
       "       visitorid            itemid\n",
       "0            172   [465522, 10034]\n",
       "1            186           [49029]\n",
       "2            264  [459835, 161949]\n",
       "3            419           [19278]\n",
       "4            539           [94371]\n",
       "...          ...               ...\n",
       "11224    1406787          [336832]\n",
       "11225    1406981          [436004]\n",
       "11226    1407070          [215596]\n",
       "11227    1407110          [360922]\n",
       "11228    1407398          [218917]\n",
       "\n",
       "[11229 rows x 2 columns]"
      ]
     },
     "execution_count": 21,
     "metadata": {},
     "output_type": "execute_result"
    }
   ],
   "source": [
    "user_history"
   ]
  },
  {
   "cell_type": "code",
   "execution_count": 22,
   "metadata": {},
   "outputs": [],
   "source": [
    "# Merge item properties to get the latest property values\n",
    "item_properties = item_properties[-10_000:]\n",
    "item_properties = item_properties.sort_values(by=['itemid', 'timestamp']).drop_duplicates(subset=['itemid', 'property'], keep='last')"
   ]
  },
  {
   "cell_type": "code",
   "execution_count": 23,
   "metadata": {},
   "outputs": [
    {
     "data": {
      "text/html": [
       "<div>\n",
       "<style scoped>\n",
       "    .dataframe tbody tr th:only-of-type {\n",
       "        vertical-align: middle;\n",
       "    }\n",
       "\n",
       "    .dataframe tbody tr th {\n",
       "        vertical-align: top;\n",
       "    }\n",
       "\n",
       "    .dataframe thead th {\n",
       "        text-align: right;\n",
       "    }\n",
       "</style>\n",
       "<table border=\"1\" class=\"dataframe\">\n",
       "  <thead>\n",
       "    <tr style=\"text-align: right;\">\n",
       "      <th></th>\n",
       "      <th>timestamp</th>\n",
       "      <th>itemid</th>\n",
       "      <th>property</th>\n",
       "      <th>value</th>\n",
       "    </tr>\n",
       "  </thead>\n",
       "  <tbody>\n",
       "    <tr>\n",
       "      <th>20269289</th>\n",
       "      <td>1436065200000</td>\n",
       "      <td>42</td>\n",
       "      <td>790</td>\n",
       "      <td>n199080.000</td>\n",
       "    </tr>\n",
       "    <tr>\n",
       "      <th>20266721</th>\n",
       "      <td>1439694000000</td>\n",
       "      <td>59</td>\n",
       "      <td>470</td>\n",
       "      <td>769062</td>\n",
       "    </tr>\n",
       "    <tr>\n",
       "      <th>20270454</th>\n",
       "      <td>1431226800000</td>\n",
       "      <td>62</td>\n",
       "      <td>categoryid</td>\n",
       "      <td>342</td>\n",
       "    </tr>\n",
       "  </tbody>\n",
       "</table>\n",
       "</div>"
      ],
      "text/plain": [
       "              timestamp  itemid    property        value\n",
       "20269289  1436065200000      42         790  n199080.000\n",
       "20266721  1439694000000      59         470       769062\n",
       "20270454  1431226800000      62  categoryid          342"
      ]
     },
     "execution_count": 23,
     "metadata": {},
     "output_type": "execute_result"
    }
   ],
   "source": [
    "item_properties.head(3)"
   ]
  },
  {
   "cell_type": "code",
   "execution_count": 25,
   "metadata": {},
   "outputs": [
    {
     "name": "stdout",
     "output_type": "stream",
     "text": [
      "Events data shape: (20282, 13)\n",
      "Item properties shape: (10000, 4)\n",
      "Category tree shape: (1669, 2)\n"
     ]
    }
   ],
   "source": [
    "print('Events data shape:', events.shape)\n",
    "print('Item properties shape:', item_properties.shape)\n",
    "print('Category tree shape:', category_tree.shape)"
   ]
  },
  {
   "cell_type": "markdown",
   "metadata": {},
   "source": [
    "# Item-Based Collaborative Filtering"
   ]
  },
  {
   "cell_type": "code",
   "execution_count": 26,
   "metadata": {},
   "outputs": [],
   "source": [
    "class InteractionDataset(Dataset):\n",
    "    def __init__(self, interactions):\n",
    "        self.interactions = interactions\n",
    "        self.user_ids = {id: idx for idx, id in enumerate(interactions['visitorid'].unique())}\n",
    "        self.item_ids = {id: idx for idx, id in enumerate(interactions['itemid'].unique())}\n",
    "        \n",
    "        self.interactions['visitorid'] = self.interactions['visitorid'].map(self.user_ids)\n",
    "        self.interactions['itemid'] = self.interactions['itemid'].map(self.item_ids)\n",
    "\n",
    "    def __len__(self):\n",
    "        return len(self.interactions)\n",
    "\n",
    "    def __getitem__(self, idx):\n",
    "        user = self.interactions.iloc[idx, 1]\n",
    "        item = self.interactions.iloc[idx, 3]\n",
    "        rating = self.interactions.iloc[idx, 2]\n",
    "        return torch.tensor(user, dtype=torch.long), torch.tensor(item, dtype=torch.long), torch.tensor(rating, dtype=torch.float)"
   ]
  },
  {
   "cell_type": "code",
   "execution_count": 27,
   "metadata": {},
   "outputs": [],
   "source": [
    "# Split data into training and test sets\n",
    "train_data, test_data = train_test_split(events, test_size=0.2, random_state=42)\n",
    "\n",
    "train_dataset = InteractionDataset(train_data)\n",
    "test_dataset = InteractionDataset(test_data)\n",
    "\n",
    "train_loader = DataLoader(train_dataset, batch_size=64, shuffle=True)\n",
    "test_loader = DataLoader(test_dataset, batch_size=64, shuffle=False)"
   ]
  },
  {
   "cell_type": "code",
   "execution_count": 28,
   "metadata": {},
   "outputs": [],
   "source": [
    "class RecommenderNet(nn.Module):\n",
    "    def __init__(self, num_users, num_items, embedding_size=50):\n",
    "        super(RecommenderNet, self).__init__()\n",
    "        self.user_embedding = nn.Embedding(num_users, embedding_size)\n",
    "        self.item_embedding = nn.Embedding(num_items, embedding_size)\n",
    "        self.fc1 = nn.Linear(embedding_size*2, 128)\n",
    "        self.fc2 = nn.Linear(128, 64)\n",
    "        self.fc3 = nn.Linear(64, 1)\n",
    "\n",
    "    def forward(self, user, item):\n",
    "        user_emb = self.user_embedding(user)\n",
    "        item_emb = self.item_embedding(item)\n",
    "        x = torch.cat([user_emb, item_emb], dim=1)\n",
    "        x = torch.relu(self.fc1(x))\n",
    "        x = torch.relu(self.fc2(x))\n",
    "        x = self.fc3(x)\n",
    "        return x.squeeze()"
   ]
  },
  {
   "cell_type": "code",
   "execution_count": 29,
   "metadata": {},
   "outputs": [
    {
     "data": {
      "text/plain": [
       "(11229, 11485)"
      ]
     },
     "execution_count": 29,
     "metadata": {},
     "output_type": "execute_result"
    }
   ],
   "source": [
    "num_users = events['visitorid'].nunique()\n",
    "num_items = events['itemid'].nunique()\n",
    "\n",
    "num_users, num_items"
   ]
  },
  {
   "cell_type": "code",
   "execution_count": 32,
   "metadata": {},
   "outputs": [
    {
     "name": "stdout",
     "output_type": "stream",
     "text": [
      "Epoch 1/4, Loss: 2.9802440515184028\n",
      "Epoch 2/4, Loss: 0.46566412867758217\n",
      "Epoch 3/4, Loss: 0.2876269191972853\n",
      "Epoch 4/4, Loss: 0.19792331397298754\n"
     ]
    }
   ],
   "source": [
    "model = RecommenderNet(num_users, num_items)\n",
    "criterion = nn.MSELoss()\n",
    "optimizer = optim.Adam(model.parameters(), lr=0.01)\n",
    "\n",
    "def train(model, train_loader, criterion, optimizer, epochs=4):\n",
    "    model.train()\n",
    "    for epoch in range(epochs):\n",
    "        total_loss = 0\n",
    "        for user, item, rating in train_loader:\n",
    "            optimizer.zero_grad()\n",
    "            outputs = model(user, item)\n",
    "            loss = criterion(outputs, rating)\n",
    "            loss.backward()\n",
    "            optimizer.step()\n",
    "            total_loss += loss.item()\n",
    "        print(f'Epoch {epoch+1}/{epochs}, Loss: {total_loss/len(train_loader)}')\n",
    "train(model, train_loader, criterion, optimizer)"
   ]
  },
  {
   "cell_type": "markdown",
   "metadata": {},
   "source": [
    "Learning loss and epochs were chosed manually to ensure test loss is not bigger than the train loss (a sign for overfitting)."
   ]
  },
  {
   "cell_type": "code",
   "execution_count": 33,
   "metadata": {},
   "outputs": [
    {
     "name": "stdout",
     "output_type": "stream",
     "text": [
      "Test Loss: 0.20225184550508857\n"
     ]
    }
   ],
   "source": [
    "def evaluate(model, test_loader, criterion):\n",
    "    model.eval()\n",
    "    total_loss = 0\n",
    "    with torch.no_grad():\n",
    "        for user, item, rating in test_loader:\n",
    "            outputs = model(user, item)\n",
    "            loss = criterion(outputs, rating)\n",
    "            total_loss += loss.item()\n",
    "    print(f'Test Loss: {total_loss/len(test_loader)}')\n",
    "evaluate(model, test_loader, criterion)"
   ]
  },
  {
   "cell_type": "markdown",
   "metadata": {},
   "source": [
    "# Content-Based Filtering "
   ]
  },
  {
   "cell_type": "code",
   "execution_count": 34,
   "metadata": {},
   "outputs": [],
   "source": [
    "item_properties = item_properties[-10_000:]\n",
    "\n",
    "# Merge item properties into a single string per item\n",
    "item_properties['properties'] = item_properties.apply(lambda row: ' '.join(row.values.astype(str)), axis=1)"
   ]
  },
  {
   "cell_type": "code",
   "execution_count": 35,
   "metadata": {},
   "outputs": [
    {
     "data": {
      "text/html": [
       "<div>\n",
       "<style scoped>\n",
       "    .dataframe tbody tr th:only-of-type {\n",
       "        vertical-align: middle;\n",
       "    }\n",
       "\n",
       "    .dataframe tbody tr th {\n",
       "        vertical-align: top;\n",
       "    }\n",
       "\n",
       "    .dataframe thead th {\n",
       "        text-align: right;\n",
       "    }\n",
       "</style>\n",
       "<table border=\"1\" class=\"dataframe\">\n",
       "  <thead>\n",
       "    <tr style=\"text-align: right;\">\n",
       "      <th></th>\n",
       "      <th>timestamp</th>\n",
       "      <th>itemid</th>\n",
       "      <th>property</th>\n",
       "      <th>value</th>\n",
       "      <th>properties</th>\n",
       "    </tr>\n",
       "  </thead>\n",
       "  <tbody>\n",
       "    <tr>\n",
       "      <th>20269289</th>\n",
       "      <td>1436065200000</td>\n",
       "      <td>42</td>\n",
       "      <td>790</td>\n",
       "      <td>n199080.000</td>\n",
       "      <td>1436065200000 42 790 n199080.000</td>\n",
       "    </tr>\n",
       "    <tr>\n",
       "      <th>20266721</th>\n",
       "      <td>1439694000000</td>\n",
       "      <td>59</td>\n",
       "      <td>470</td>\n",
       "      <td>769062</td>\n",
       "      <td>1439694000000 59 470 769062</td>\n",
       "    </tr>\n",
       "    <tr>\n",
       "      <th>20270454</th>\n",
       "      <td>1431226800000</td>\n",
       "      <td>62</td>\n",
       "      <td>categoryid</td>\n",
       "      <td>342</td>\n",
       "      <td>1431226800000 62 categoryid 342</td>\n",
       "    </tr>\n",
       "  </tbody>\n",
       "</table>\n",
       "</div>"
      ],
      "text/plain": [
       "              timestamp  itemid    property        value  \\\n",
       "20269289  1436065200000      42         790  n199080.000   \n",
       "20266721  1439694000000      59         470       769062   \n",
       "20270454  1431226800000      62  categoryid          342   \n",
       "\n",
       "                                properties  \n",
       "20269289  1436065200000 42 790 n199080.000  \n",
       "20266721       1439694000000 59 470 769062  \n",
       "20270454   1431226800000 62 categoryid 342  "
      ]
     },
     "execution_count": 35,
     "metadata": {},
     "output_type": "execute_result"
    }
   ],
   "source": [
    "item_properties.head(3)"
   ]
  },
  {
   "cell_type": "markdown",
   "metadata": {},
   "source": [
    "Note: Because of the nature of the dataset, we don't get any readable properties, instead they are just abstract numbers. In a real use-case they would probably contain a lot of useful info that different items can be related to and similarties can be found. For now we just row with the random number jumbo."
   ]
  },
  {
   "cell_type": "code",
   "execution_count": 36,
   "metadata": {},
   "outputs": [],
   "source": [
    "# Use TF-IDF to vectorize the item properties\n",
    "tfidf = TfidfVectorizer(stop_words='english')\n",
    "tfidf_matrix = tfidf.fit_transform(item_properties['properties'])"
   ]
  },
  {
   "cell_type": "code",
   "execution_count": 37,
   "metadata": {},
   "outputs": [
    {
     "data": {
      "text/plain": [
       "<10000x18059 sparse matrix of type '<class 'numpy.float64'>'\n",
       "\twith 54102 stored elements in Compressed Sparse Row format>"
      ]
     },
     "execution_count": 37,
     "metadata": {},
     "output_type": "execute_result"
    }
   ],
   "source": [
    "tfidf_matrix"
   ]
  },
  {
   "cell_type": "code",
   "execution_count": 38,
   "metadata": {},
   "outputs": [],
   "source": [
    "cosine_sim = linear_kernel(tfidf_matrix, tfidf_matrix)"
   ]
  },
  {
   "cell_type": "code",
   "execution_count": 39,
   "metadata": {},
   "outputs": [
    {
     "data": {
      "text/plain": [
       "array([[1.        , 0.        , 0.        , ..., 0.        , 0.        ,\n",
       "        0.        ],\n",
       "       [0.        , 1.        , 0.        , ..., 0.        , 0.        ,\n",
       "        0.        ],\n",
       "       [0.        , 0.        , 1.        , ..., 0.        , 0.10235842,\n",
       "        0.1455046 ],\n",
       "       ...,\n",
       "       [0.        , 0.        , 0.        , ..., 1.        , 0.        ,\n",
       "        0.        ],\n",
       "       [0.        , 0.        , 0.10235842, ..., 0.        , 1.        ,\n",
       "        0.08864493],\n",
       "       [0.        , 0.        , 0.1455046 , ..., 0.        , 0.08864493,\n",
       "        1.        ]])"
      ]
     },
     "execution_count": 39,
     "metadata": {},
     "output_type": "execute_result"
    }
   ],
   "source": [
    "cosine_sim"
   ]
  },
  {
   "cell_type": "code",
   "execution_count": 40,
   "metadata": {},
   "outputs": [],
   "source": [
    "# Create a mapping from item IDs to indices\n",
    "item_id_to_idx = {item_id: idx for idx, item_id in enumerate(item_properties['itemid'].unique())}\n",
    "idx_to_item_id = {idx: item_id for item_id, idx in item_id_to_idx.items()}"
   ]
  },
  {
   "cell_type": "code",
   "execution_count": 41,
   "metadata": {},
   "outputs": [],
   "source": [
    "# Function to get item recommendations based on similarity scores\n",
    "def get_content_based_recommendations(item_id, cosine_sim=cosine_sim):\n",
    "    if item_id not in item_id_to_idx:\n",
    "        return \"Item ID not found in item properties.\"\n",
    "    \n",
    "    idx = item_id_to_idx[item_id]\n",
    "    sim_scores = list(enumerate(cosine_sim[idx]))\n",
    "    sim_scores = sorted(sim_scores, key=lambda x: x[1], reverse=True)\n",
    "    sim_scores = sim_scores[1:11]  # Get top 10 similar items, excluding itself\n",
    "    item_indices = [i[0] for i in sim_scores]\n",
    "    recommended_items = [idx_to_item_id[i] for i in item_indices if i in idx_to_item_id]\n",
    "    return recommended_items"
   ]
  },
  {
   "cell_type": "code",
   "execution_count": 45,
   "metadata": {},
   "outputs": [
    {
     "name": "stdout",
     "output_type": "stream",
     "text": [
      "[118711, 446072, 454666, 461690, 310280, 159398, 414522, 29260, 85377, 283017]\n"
     ]
    }
   ],
   "source": [
    "print(get_content_based_recommendations(59))"
   ]
  },
  {
   "cell_type": "markdown",
   "metadata": {},
   "source": [
    "# Hybrid"
   ]
  },
  {
   "cell_type": "code",
   "execution_count": 46,
   "metadata": {},
   "outputs": [],
   "source": [
    "# Function to predict interactivity\n",
    "def predict_interactivity(model, user_id, item_id, user_ids, item_ids):\n",
    "    if user_id not in user_ids or item_id not in item_ids:\n",
    "        return \"User or item not found in training data.\"\n",
    "    \n",
    "    user_idx = torch.tensor([user_ids[user_id]], dtype=torch.long)\n",
    "    item_idx = torch.tensor([item_ids[item_id]], dtype=torch.long)\n",
    "    \n",
    "    model.eval()\n",
    "    with torch.no_grad():\n",
    "        prediction = model(user_idx, item_idx).item()\n",
    "    \n",
    "    return prediction"
   ]
  },
  {
   "cell_type": "code",
   "execution_count": 47,
   "metadata": {},
   "outputs": [],
   "source": [
    "def recommend_future_items(user_id, user_history, user_ids, item_ids, category_tree, num_recommendations=10):\n",
    "    user_items = user_history[user_history.visitorid == user_id].itemid.to_list()[0]\n",
    "    \n",
    "    # Use collaborative filtering for users with history\n",
    "    collaborative_recommendations = []\n",
    "    if user_items:\n",
    "        for item_id in item_ids:\n",
    "            if item_id not in user_items:\n",
    "                interactivity = predict_interactivity(model, user_id, item_id, user_ids, item_ids)\n",
    "                collaborative_recommendations.append((item_id, interactivity))\n",
    "        collaborative_recommendations = sorted(collaborative_recommendations, key=lambda x: x[1], reverse=True)\n",
    "        collaborative_recommendations = [item[0] for item in collaborative_recommendations[:num_recommendations]]\n",
    "\n",
    "    # Get content-based recommendations\n",
    "    content_based_recommendations = []\n",
    "    if user_items:\n",
    "        # Pick a random item from the user's history to base content recommendations on\n",
    "        random_item_id = random.choice(user_items)\n",
    "        content_based_recommendations = get_content_based_recommendations(random_item_id)\n",
    "    else:\n",
    "        # Use a random item id if the user has no history\n",
    "        random_item_id = random.choice(list(item_ids.keys()))\n",
    "        content_based_recommendations = get_content_based_recommendations(random_item_id)\n",
    "    \n",
    "    # Get items from the same parent category\n",
    "    parent_category_recommendations = []\n",
    "    if user_items:\n",
    "        for item_id in user_items:\n",
    "            parent_category = category_tree[category_tree['categoryid'] == item_id]['parentid'].values\n",
    "            if parent_category.size > 0:\n",
    "                parent_category_id = parent_category[0]\n",
    "                sibling_items = category_tree[category_tree['parentid'] == parent_category_id]['categoryid'].values\n",
    "                sibling_items = [item for item in sibling_items if item not in user_items and item in item_ids]\n",
    "                parent_category_recommendations.extend(sibling_items)\n",
    "    \n",
    "    # Prioritize collaborative recommendations, sprinkle in content-based and parent category recommendations\n",
    "    combined_recommendations = collaborative_recommendations\n",
    "    combined_recommendations.extend([item for item in content_based_recommendations if item not in combined_recommendations])\n",
    "    combined_recommendations.extend([item for item in parent_category_recommendations if item not in combined_recommendations])\n",
    "    \n",
    "    # Return the top N recommendations\n",
    "    return combined_recommendations[:num_recommendations]"
   ]
  },
  {
   "cell_type": "code",
   "execution_count": 48,
   "metadata": {},
   "outputs": [
    {
     "name": "stdout",
     "output_type": "stream",
     "text": [
      "Predicted interactivity for user 235392 and item 317296: 9.829662322998047\n"
     ]
    }
   ],
   "source": [
    "user_id = list(train_dataset.user_ids.keys())[0]\n",
    "item_id = list(train_dataset.item_ids.keys())[0]\n",
    "print(f'Predicted interactivity for user {user_id} and item {item_id}: {predict_interactivity(model, user_id, item_id, train_dataset.user_ids, train_dataset.item_ids)}')"
   ]
  },
  {
   "cell_type": "code",
   "execution_count": 49,
   "metadata": {},
   "outputs": [
    {
     "name": "stdout",
     "output_type": "stream",
     "text": [
      "Recommended items for user 235392: [378505, 355511, 84595, 451207, 30702, 367490, 343104, 377327, 132854, 362339]\n"
     ]
    }
   ],
   "source": [
    "print(f'Recommended items for user {user_id}: {recommend_future_items(user_id, user_history, train_dataset.user_ids, train_dataset.item_ids, category_tree)}')"
   ]
  },
  {
   "cell_type": "markdown",
   "metadata": {},
   "source": [
    "# Handling new users and items"
   ]
  },
  {
   "cell_type": "code",
   "execution_count": 50,
   "metadata": {},
   "outputs": [
    {
     "name": "stdout",
     "output_type": "stream",
     "text": [
      "New user added with ID 1407399\n"
     ]
    }
   ],
   "source": [
    "def add_new_user(user_id, user_ids):\n",
    "    if user_id not in user_ids:\n",
    "        user_ids[user_id] = len(user_ids)\n",
    "\n",
    "new_user_id = max(train_dataset.user_ids.keys()) + 1\n",
    "add_new_user(new_user_id, train_dataset.user_ids)\n",
    "print(f'New user added with ID {new_user_id}')"
   ]
  },
  {
   "cell_type": "code",
   "execution_count": 51,
   "metadata": {},
   "outputs": [
    {
     "name": "stdout",
     "output_type": "stream",
     "text": [
      "New item added with ID 466862\n"
     ]
    }
   ],
   "source": [
    "def add_new_item(item_id, item_ids, item_id_to_idx, idx_to_item_id, cosine_sim):\n",
    "    if item_id not in item_ids:\n",
    "        new_idx = len(item_ids)\n",
    "        item_ids[item_id] = new_idx\n",
    "        item_id_to_idx[item_id] = new_idx\n",
    "        idx_to_item_id[new_idx] = item_id\n",
    "        \n",
    "        # Expand the cosine_sim matrix to accommodate the new item\n",
    "        new_row = np.zeros((1, cosine_sim.shape[1]))\n",
    "        new_col = np.zeros((cosine_sim.shape[0] + 1, 1))\n",
    "        cosine_sim = np.vstack((cosine_sim, new_row))\n",
    "        cosine_sim = np.hstack((cosine_sim, new_col))\n",
    "\n",
    "        # Optionally update the cosine_sim matrix with new similarities\n",
    "\n",
    "    return cosine_sim\n",
    "\n",
    "new_item_id = max(train_dataset.item_ids.keys()) + 1\n",
    "cosine_sim = add_new_item(new_item_id, train_dataset.item_ids, item_id_to_idx, idx_to_item_id, cosine_sim)\n",
    "print(f'New item added with ID {new_item_id}')"
   ]
  },
  {
   "cell_type": "code",
   "execution_count": 52,
   "metadata": {},
   "outputs": [],
   "source": [
    "def save_model(model, path='recommender_model.pth'):\n",
    "    torch.save(model.state_dict(), path)"
   ]
  },
  {
   "cell_type": "code",
   "execution_count": 53,
   "metadata": {},
   "outputs": [],
   "source": [
    "def save_cosine_sim(cosine_sim, path='cosine_sim.pkl'):\n",
    "    with open(path, 'wb') as f:\n",
    "        pickle.dump(cosine_sim, f)"
   ]
  },
  {
   "cell_type": "code",
   "execution_count": 54,
   "metadata": {},
   "outputs": [],
   "source": [
    "save_model(model, 'recommender_model.pth')\n",
    "save_cosine_sim(cosine_sim, 'cosine_sim.pkl')"
   ]
  }
 ],
 "metadata": {
  "kernelspec": {
   "display_name": "base",
   "language": "python",
   "name": "python3"
  },
  "language_info": {
   "codemirror_mode": {
    "name": "ipython",
    "version": 3
   },
   "file_extension": ".py",
   "mimetype": "text/x-python",
   "name": "python",
   "nbconvert_exporter": "python",
   "pygments_lexer": "ipython3",
   "version": "3.12.2"
  }
 },
 "nbformat": 4,
 "nbformat_minor": 2
}
