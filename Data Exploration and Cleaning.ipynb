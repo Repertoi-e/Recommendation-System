{
 "cells": [
  {
   "cell_type": "code",
   "execution_count": 1,
   "metadata": {},
   "outputs": [],
   "source": [
    "import numpy as np\n",
    "import pandas as pd\n",
    "import seaborn as sns\n",
    "\n",
    "from matplotlib import pyplot as plt\n",
    "\n",
    "from scipy.stats import zscore\n",
    "\n",
    "import pickle"
   ]
  },
  {
   "cell_type": "markdown",
   "metadata": {},
   "source": [
    "Data exploration and feature engineering below was done with the help of ChatGPT and example kaggle dataset explorations."
   ]
  },
  {
   "cell_type": "markdown",
   "metadata": {},
   "source": [
    "# Explore Dataset"
   ]
  },
  {
   "cell_type": "code",
   "execution_count": 2,
   "metadata": {},
   "outputs": [],
   "source": [
    "events_df = pd.read_csv('retail_rocket/events.csv')\n",
    "\n",
    "item_properties_p1 = pd.read_csv('retail_rocket/item_properties_part1.csv')\n",
    "item_properties_p2 = pd.read_csv('retail_rocket/item_properties_part2.csv')\n",
    "item_properties_df = pd.concat([item_properties_p1, item_properties_p2], ignore_index=True)\n",
    "\n",
    "del item_properties_p1, item_properties_p2\n",
    "\n",
    "category_tree_df = pd.read_csv('retail_rocket/category_tree.csv')"
   ]
  },
  {
   "cell_type": "code",
   "execution_count": 3,
   "metadata": {},
   "outputs": [
    {
     "data": {
      "text/html": [
       "<div>\n",
       "<style scoped>\n",
       "    .dataframe tbody tr th:only-of-type {\n",
       "        vertical-align: middle;\n",
       "    }\n",
       "\n",
       "    .dataframe tbody tr th {\n",
       "        vertical-align: top;\n",
       "    }\n",
       "\n",
       "    .dataframe thead th {\n",
       "        text-align: right;\n",
       "    }\n",
       "</style>\n",
       "<table border=\"1\" class=\"dataframe\">\n",
       "  <thead>\n",
       "    <tr style=\"text-align: right;\">\n",
       "      <th></th>\n",
       "      <th>timestamp</th>\n",
       "      <th>visitorid</th>\n",
       "      <th>event</th>\n",
       "      <th>itemid</th>\n",
       "      <th>transactionid</th>\n",
       "    </tr>\n",
       "  </thead>\n",
       "  <tbody>\n",
       "    <tr>\n",
       "      <th>0</th>\n",
       "      <td>1433221332117</td>\n",
       "      <td>257597</td>\n",
       "      <td>view</td>\n",
       "      <td>355908</td>\n",
       "      <td>NaN</td>\n",
       "    </tr>\n",
       "    <tr>\n",
       "      <th>1</th>\n",
       "      <td>1433224214164</td>\n",
       "      <td>992329</td>\n",
       "      <td>view</td>\n",
       "      <td>248676</td>\n",
       "      <td>NaN</td>\n",
       "    </tr>\n",
       "    <tr>\n",
       "      <th>2</th>\n",
       "      <td>1433221999827</td>\n",
       "      <td>111016</td>\n",
       "      <td>view</td>\n",
       "      <td>318965</td>\n",
       "      <td>NaN</td>\n",
       "    </tr>\n",
       "    <tr>\n",
       "      <th>3</th>\n",
       "      <td>1433221955914</td>\n",
       "      <td>483717</td>\n",
       "      <td>view</td>\n",
       "      <td>253185</td>\n",
       "      <td>NaN</td>\n",
       "    </tr>\n",
       "    <tr>\n",
       "      <th>4</th>\n",
       "      <td>1433221337106</td>\n",
       "      <td>951259</td>\n",
       "      <td>view</td>\n",
       "      <td>367447</td>\n",
       "      <td>NaN</td>\n",
       "    </tr>\n",
       "  </tbody>\n",
       "</table>\n",
       "</div>"
      ],
      "text/plain": [
       "       timestamp  visitorid event  itemid  transactionid\n",
       "0  1433221332117     257597  view  355908            NaN\n",
       "1  1433224214164     992329  view  248676            NaN\n",
       "2  1433221999827     111016  view  318965            NaN\n",
       "3  1433221955914     483717  view  253185            NaN\n",
       "4  1433221337106     951259  view  367447            NaN"
      ]
     },
     "execution_count": 3,
     "metadata": {},
     "output_type": "execute_result"
    }
   ],
   "source": [
    "events_df.head()"
   ]
  },
  {
   "cell_type": "code",
   "execution_count": 4,
   "metadata": {},
   "outputs": [],
   "source": [
    "# Ensure event types are valid\n",
    "valid_events = ['view', 'addtocart', 'transaction']\n",
    "events_df = events_df[events_df['event'].isin(valid_events)]\n",
    "\n",
    "events_df = events_df.dropna()"
   ]
  },
  {
   "cell_type": "code",
   "execution_count": 5,
   "metadata": {},
   "outputs": [
    {
     "data": {
      "image/png": "[encoded data removed]",
      "text/plain": [
       "<Figure size 1000x600 with 1 Axes>"
      ]
     },
     "metadata": {},
     "output_type": "display_data"
    }
   ],
   "source": [
    "plt.figure(figsize=(10, 6))\n",
    "sns.countplot(data=events_df, x='event', hue='event', legend=False)\n",
    "plt.show()"
   ]
  },
  {
   "cell_type": "code",
   "execution_count": 6,
   "metadata": {},
   "outputs": [
    {
     "data": {
      "text/html": [
       "<div>\n",
       "<style scoped>\n",
       "    .dataframe tbody tr th:only-of-type {\n",
       "        vertical-align: middle;\n",
       "    }\n",
       "\n",
       "    .dataframe tbody tr th {\n",
       "        vertical-align: top;\n",
       "    }\n",
       "\n",
       "    .dataframe thead th {\n",
       "        text-align: right;\n",
       "    }\n",
       "</style>\n",
       "<table border=\"1\" class=\"dataframe\">\n",
       "  <thead>\n",
       "    <tr style=\"text-align: right;\">\n",
       "      <th></th>\n",
       "      <th>timestamp</th>\n",
       "      <th>itemid</th>\n",
       "      <th>property</th>\n",
       "      <th>value</th>\n",
       "    </tr>\n",
       "  </thead>\n",
       "  <tbody>\n",
       "    <tr>\n",
       "      <th>0</th>\n",
       "      <td>1435460400000</td>\n",
       "      <td>460429</td>\n",
       "      <td>categoryid</td>\n",
       "      <td>1338</td>\n",
       "    </tr>\n",
       "    <tr>\n",
       "      <th>1</th>\n",
       "      <td>1441508400000</td>\n",
       "      <td>206783</td>\n",
       "      <td>888</td>\n",
       "      <td>1116713 960601 n277.200</td>\n",
       "    </tr>\n",
       "    <tr>\n",
       "      <th>2</th>\n",
       "      <td>1439089200000</td>\n",
       "      <td>395014</td>\n",
       "      <td>400</td>\n",
       "      <td>n552.000 639502 n720.000 424566</td>\n",
       "    </tr>\n",
       "    <tr>\n",
       "      <th>3</th>\n",
       "      <td>1431226800000</td>\n",
       "      <td>59481</td>\n",
       "      <td>790</td>\n",
       "      <td>n15360.000</td>\n",
       "    </tr>\n",
       "    <tr>\n",
       "      <th>4</th>\n",
       "      <td>1431831600000</td>\n",
       "      <td>156781</td>\n",
       "      <td>917</td>\n",
       "      <td>828513</td>\n",
       "    </tr>\n",
       "  </tbody>\n",
       "</table>\n",
       "</div>"
      ],
      "text/plain": [
       "       timestamp  itemid    property                            value\n",
       "0  1435460400000  460429  categoryid                             1338\n",
       "1  1441508400000  206783         888          1116713 960601 n277.200\n",
       "2  1439089200000  395014         400  n552.000 639502 n720.000 424566\n",
       "3  1431226800000   59481         790                       n15360.000\n",
       "4  1431831600000  156781         917                           828513"
      ]
     },
     "execution_count": 6,
     "metadata": {},
     "output_type": "execute_result"
    }
   ],
   "source": [
    "item_properties_df.head()"
   ]
  },
  {
   "cell_type": "code",
   "execution_count": 7,
   "metadata": {},
   "outputs": [
    {
     "data": {
      "text/html": [
       "<div>\n",
       "<style scoped>\n",
       "    .dataframe tbody tr th:only-of-type {\n",
       "        vertical-align: middle;\n",
       "    }\n",
       "\n",
       "    .dataframe tbody tr th {\n",
       "        vertical-align: top;\n",
       "    }\n",
       "\n",
       "    .dataframe thead th {\n",
       "        text-align: right;\n",
       "    }\n",
       "</style>\n",
       "<table border=\"1\" class=\"dataframe\">\n",
       "  <thead>\n",
       "    <tr style=\"text-align: right;\">\n",
       "      <th></th>\n",
       "      <th>categoryid</th>\n",
       "      <th>parentid</th>\n",
       "    </tr>\n",
       "  </thead>\n",
       "  <tbody>\n",
       "    <tr>\n",
       "      <th>0</th>\n",
       "      <td>1016</td>\n",
       "      <td>213.0</td>\n",
       "    </tr>\n",
       "    <tr>\n",
       "      <th>1</th>\n",
       "      <td>809</td>\n",
       "      <td>169.0</td>\n",
       "    </tr>\n",
       "    <tr>\n",
       "      <th>2</th>\n",
       "      <td>570</td>\n",
       "      <td>9.0</td>\n",
       "    </tr>\n",
       "    <tr>\n",
       "      <th>3</th>\n",
       "      <td>1691</td>\n",
       "      <td>885.0</td>\n",
       "    </tr>\n",
       "    <tr>\n",
       "      <th>4</th>\n",
       "      <td>536</td>\n",
       "      <td>1691.0</td>\n",
       "    </tr>\n",
       "  </tbody>\n",
       "</table>\n",
       "</div>"
      ],
      "text/plain": [
       "   categoryid  parentid\n",
       "0        1016     213.0\n",
       "1         809     169.0\n",
       "2         570       9.0\n",
       "3        1691     885.0\n",
       "4         536    1691.0"
      ]
     },
     "execution_count": 7,
     "metadata": {},
     "output_type": "execute_result"
    }
   ],
   "source": [
    "category_tree_df.head()"
   ]
  },
  {
   "cell_type": "code",
   "execution_count": 8,
   "metadata": {},
   "outputs": [
    {
     "data": {
      "text/plain": [
       "((22457, 5), (1669, 2), (20275902, 4))"
      ]
     },
     "execution_count": 8,
     "metadata": {},
     "output_type": "execute_result"
    }
   ],
   "source": [
    "events_df.shape, category_tree_df.shape, item_properties_df.shape"
   ]
  },
  {
   "cell_type": "code",
   "execution_count": 9,
   "metadata": {},
   "outputs": [
    {
     "data": {
      "text/plain": [
       "timestamp        0\n",
       "visitorid        0\n",
       "event            0\n",
       "itemid           0\n",
       "transactionid    0\n",
       "dtype: int64"
      ]
     },
     "execution_count": 9,
     "metadata": {},
     "output_type": "execute_result"
    }
   ],
   "source": [
    "events_df.isnull().sum()"
   ]
  },
  {
   "cell_type": "code",
   "execution_count": 10,
   "metadata": {},
   "outputs": [
    {
     "data": {
      "text/plain": [
       "event\n",
       "transaction    22457\n",
       "Name: count, dtype: int64"
      ]
     },
     "execution_count": 10,
     "metadata": {},
     "output_type": "execute_result"
    }
   ],
   "source": [
    "events_count = events_df.event.value_counts()\n",
    "events_count"
   ]
  },
  {
   "cell_type": "code",
   "execution_count": 11,
   "metadata": {},
   "outputs": [
    {
     "data": {
      "text/plain": [
       "event\n",
       "transaction    100.0\n",
       "Name: count, dtype: float64"
      ]
     },
     "execution_count": 11,
     "metadata": {},
     "output_type": "execute_result"
    }
   ],
   "source": [
    "(events_count /len(events_df)) * 100  # Percentages of event types"
   ]
  },
  {
   "cell_type": "code",
   "execution_count": 12,
   "metadata": {},
   "outputs": [
    {
     "data": {
      "text/plain": [
       "event\n",
       "transaction    22457\n",
       "Name: transactionid, dtype: int64"
      ]
     },
     "execution_count": 12,
     "metadata": {},
     "output_type": "execute_result"
    }
   ],
   "source": [
    "events_df.groupby('event')['transactionid'].count()"
   ]
  },
  {
   "cell_type": "code",
   "execution_count": 13,
   "metadata": {},
   "outputs": [
    {
     "data": {
      "text/plain": [
       "event\n",
       "transaction    22457\n",
       "Name: visitorid, dtype: int64"
      ]
     },
     "execution_count": 13,
     "metadata": {},
     "output_type": "execute_result"
    }
   ],
   "source": [
    "events_df.groupby('event')['visitorid'].count()"
   ]
  },
  {
   "cell_type": "code",
   "execution_count": 14,
   "metadata": {},
   "outputs": [
    {
     "name": "stdout",
     "output_type": "stream",
     "text": [
      "Number of rows before removing duplicates:  22457\n",
      "Number of rows after removing duplicates:  22457\n"
     ]
    }
   ],
   "source": [
    "print('Number of rows before removing duplicates: ', events_df.shape[0])\n",
    "\n",
    "# Remove duplicates based on all columns\n",
    "events_df.drop_duplicates(inplace=True)\n",
    "events_df.reset_index(drop=True, inplace=True)\n",
    "\n",
    "print('Number of rows after removing duplicates: ', events_df.shape[0])"
   ]
  },
  {
   "cell_type": "code",
   "execution_count": 15,
   "metadata": {},
   "outputs": [
    {
     "data": {
      "text/plain": [
       "0       2015-06-02 05:17:56.276\n",
       "1       2015-06-01 21:18:20.981\n",
       "2       2015-06-01 21:25:15.008\n",
       "3       2015-06-01 16:38:56.375\n",
       "4       2015-06-01 16:01:58.180\n",
       "                  ...          \n",
       "22452   2015-07-31 21:12:56.570\n",
       "22453   2015-07-31 21:57:58.779\n",
       "22454   2015-07-31 15:48:50.123\n",
       "22455   2015-07-31 15:12:40.300\n",
       "22456   2015-07-31 16:09:49.163\n",
       "Name: date_time, Length: 22457, dtype: datetime64[ns]"
      ]
     },
     "execution_count": 15,
     "metadata": {},
     "output_type": "execute_result"
    }
   ],
   "source": [
    "events_df['date_time'] = pd.to_datetime(events_df['timestamp'],unit='ms')\n",
    "events_df['date_time']"
   ]
  },
  {
   "cell_type": "code",
   "execution_count": 16,
   "metadata": {},
   "outputs": [
    {
     "data": {
      "text/html": [
       "<div>\n",
       "<style scoped>\n",
       "    .dataframe tbody tr th:only-of-type {\n",
       "        vertical-align: middle;\n",
       "    }\n",
       "\n",
       "    .dataframe tbody tr th {\n",
       "        vertical-align: top;\n",
       "    }\n",
       "\n",
       "    .dataframe thead th {\n",
       "        text-align: right;\n",
       "    }\n",
       "</style>\n",
       "<table border=\"1\" class=\"dataframe\">\n",
       "  <thead>\n",
       "    <tr style=\"text-align: right;\">\n",
       "      <th></th>\n",
       "      <th>visitorid</th>\n",
       "      <th>itemid</th>\n",
       "      <th>date_time (transaction)</th>\n",
       "      <th>date_time (addtocart)</th>\n",
       "      <th>date_time (view)</th>\n",
       "    </tr>\n",
       "  </thead>\n",
       "  <tbody>\n",
       "  </tbody>\n",
       "</table>\n",
       "</div>"
      ],
      "text/plain": [
       "Empty DataFrame\n",
       "Columns: [visitorid, itemid, date_time (transaction), date_time (addtocart), date_time (view)]\n",
       "Index: []"
      ]
     },
     "execution_count": 16,
     "metadata": {},
     "output_type": "execute_result"
    }
   ],
   "source": [
    "item_tra = events_df[['visitorid','itemid','date_time']][events_df['event']=='transaction']\n",
    "item_view = events_df[['visitorid','itemid','date_time']][events_df['event']=='view']\n",
    "item_atc = events_df[['visitorid','itemid','date_time']][events_df['event']=='addtocart']\n",
    "\n",
    "m = item_tra.merge(item_atc, on=['visitorid','itemid'], how ='inner', suffixes=[' (transaction)',' (addtocart)'])\n",
    "m = m.merge(item_view, on=['visitorid','itemid'], how ='inner', suffixes =['(view)'])\n",
    "m = m.rename(columns={'date_time' : 'date_time (view)'})\n",
    "m.head(10)"
   ]
  },
  {
   "cell_type": "code",
   "execution_count": 17,
   "metadata": {},
   "outputs": [],
   "source": [
    "# Distribution of events by day of the week and hour of the day. \n",
    "events_df['day_of_week'] = events_df['date_time'].dt.day_name()\n",
    "events_df['hour'] = events_df['date_time'].dt.hour"
   ]
  },
  {
   "cell_type": "code",
   "execution_count": 18,
   "metadata": {},
   "outputs": [
    {
     "data": {
      "image/png": "[encoded data removed]",
      "text/plain": [
       "<Figure size 2400x1600 with 2 Axes>"
      ]
     },
     "metadata": {},
     "output_type": "display_data"
    }
   ],
   "source": [
    "plt.figure(figsize=(24, 16))\n",
    "\n",
    "plt.subplot(2, 1, 1)\n",
    "ax1 = sns.countplot(data=events_df, x='day_of_week', hue='day_of_week', order=events_df['day_of_week'].value_counts().index, legend=False)\n",
    "plt.title('Distribution of Events by Day of the Week')\n",
    "for p in ax1.patches:\n",
    "    ax1.annotate(format(p.get_height(), '.0f'), (p.get_x() + p.get_width() / 2., p.get_height()), ha = 'center', va = 'center', xytext = (0, 9), textcoords = 'offset points')\n",
    "\n",
    "plt.subplot(2, 1, 2)\n",
    "ax2 = sns.countplot(data=events_df, x='hour', hue='hour', order=events_df['hour'].value_counts().index, legend=False)\n",
    "plt.title('Distribution of Events by Hour of the Day')\n",
    "for p in ax2.patches:\n",
    "    ax2.annotate(format(p.get_height(), '.0f'), (p.get_x() + p.get_width() / 2., p.get_height()), ha = 'center', va = 'center', xytext = (0, 9), textcoords = 'offset points')\n",
    "\n",
    "plt.tight_layout()\n",
    "plt.show()"
   ]
  },
  {
   "cell_type": "code",
   "execution_count": 19,
   "metadata": {},
   "outputs": [
    {
     "name": "stdout",
     "output_type": "stream",
     "text": [
      "Series([], Name: count, dtype: int64)\n"
     ]
    },
    {
     "data": {
      "image/png": "[encoded data removed]",
      "text/plain": [
       "<Figure size 1000x600 with 1 Axes>"
      ]
     },
     "metadata": {},
     "output_type": "display_data"
    }
   ],
   "source": [
    "top_viewed_items = events_df[events_df['event'] == 'view']['itemid'].value_counts().head(10)\n",
    "print(top_viewed_items)\n",
    "\n",
    "plt.figure(figsize=(10, 6))\n",
    "sns.barplot(x=top_viewed_items.index, hue=top_viewed_items.index, y=top_viewed_items.values, legend=False)\n",
    "plt.xlabel('Item ID')\n",
    "plt.ylabel('Number of Views')\n",
    "plt.show()"
   ]
  },
  {
   "cell_type": "code",
   "execution_count": 20,
   "metadata": {},
   "outputs": [
    {
     "name": "stdout",
     "output_type": "stream",
     "text": [
      "itemid\n",
      "461686    133\n",
      "119736     97\n",
      "213834     92\n",
      "312728     46\n",
      "7943       46\n",
      "445351     45\n",
      "48030      41\n",
      "420960     38\n",
      "248455     38\n",
      "17478      37\n",
      "Name: count, dtype: int64\n"
     ]
    },
    {
     "data": {
      "image/png": "[encoded data removed]",
      "text/plain": [
       "<Figure size 1000x600 with 1 Axes>"
      ]
     },
     "metadata": {},
     "output_type": "display_data"
    }
   ],
   "source": [
    "top_sold_items = events_df[events_df['event'] == 'transaction']['itemid'].value_counts().head(10)\n",
    "print(top_sold_items)\n",
    "\n",
    "plt.figure(figsize=(10, 6))\n",
    "sns.barplot(x=top_sold_items.index, hue=top_sold_items.index, y=top_sold_items.values, legend=False)\n",
    "plt.xlabel('Item ID')\n",
    "plt.ylabel('Number of Transactions')\n",
    "plt.show()"
   ]
  },
  {
   "cell_type": "code",
   "execution_count": 21,
   "metadata": {},
   "outputs": [
    {
     "name": "stdout",
     "output_type": "stream",
     "text": [
      "Series([], Name: count, dtype: int64)\n"
     ]
    },
    {
     "data": {
      "image/png": "[encoded data removed]",
      "text/plain": [
       "<Figure size 1000x900 with 1 Axes>"
      ]
     },
     "metadata": {},
     "output_type": "display_data"
    }
   ],
   "source": [
    "top_addtocart_item = events_df[events_df['event']=='addtocart']['itemid'].value_counts().head(10)\n",
    "print(top_addtocart_item)\n",
    "\n",
    "plt.figure(figsize=(10,9))\n",
    "sns.barplot(x=top_addtocart_item.index, hue=top_addtocart_item.index, y=top_addtocart_item.values, legend=False)\n",
    "plt.xlabel('Item ID')\n",
    "plt.ylabel('Times added to cart')\n",
    "\n",
    "plt.show()"
   ]
  },
  {
   "cell_type": "code",
   "execution_count": 22,
   "metadata": {},
   "outputs": [],
   "source": [
    "# Calculate total number of events for each user and item\n",
    "user_interaction_counts = events_df.groupby('visitorid')['event'].count().reset_index()\n",
    "user_interaction_counts.rename(columns={'event': 'total_events_user'}, inplace=True)\n",
    "\n",
    "item_interaction_counts = events_df.groupby('itemid')['event'].count().reset_index()\n",
    "item_interaction_counts.rename(columns={'event': 'total_events_item'}, inplace=True)\n",
    "\n",
    "# Calculate total number of unique items interacted with by each user\n",
    "user_unique_items = events_df.groupby('visitorid')['itemid'].nunique().reset_index()\n",
    "user_unique_items.rename(columns={'itemid': 'unique_items_interacted'}, inplace=True)\n",
    "\n",
    "# Calculate total number of unique users interacting with each item\n",
    "item_unique_users = events_df.groupby('itemid')['visitorid'].nunique().reset_index()\n",
    "item_unique_users.rename(columns={'visitorid': 'unique_users_interacted'}, inplace=True)\n",
    "\n",
    "events_df = events_df.merge(user_interaction_counts, on='visitorid', how='left')\n",
    "events_df = events_df.merge(item_interaction_counts, on='itemid', how='left')\n",
    "events_df = events_df.merge(user_unique_items, on='visitorid', how='left')\n",
    "events_df = events_df.merge(item_unique_users, on='itemid', how='left')"
   ]
  },
  {
   "cell_type": "code",
   "execution_count": 23,
   "metadata": {},
   "outputs": [],
   "source": [
    "events_df['interaction_value'] = events_df['event'].apply(lambda x: 0.4 if x == 'view' else (0.6 if x == 'addtocart' else 0.8))"
   ]
  },
  {
   "cell_type": "code",
   "execution_count": 24,
   "metadata": {},
   "outputs": [
    {
     "data": {
      "text/html": [
       "<div>\n",
       "<style scoped>\n",
       "    .dataframe tbody tr th:only-of-type {\n",
       "        vertical-align: middle;\n",
       "    }\n",
       "\n",
       "    .dataframe tbody tr th {\n",
       "        vertical-align: top;\n",
       "    }\n",
       "\n",
       "    .dataframe thead th {\n",
       "        text-align: right;\n",
       "    }\n",
       "</style>\n",
       "<table border=\"1\" class=\"dataframe\">\n",
       "  <thead>\n",
       "    <tr style=\"text-align: right;\">\n",
       "      <th></th>\n",
       "      <th>timestamp</th>\n",
       "      <th>visitorid</th>\n",
       "      <th>event</th>\n",
       "      <th>itemid</th>\n",
       "      <th>transactionid</th>\n",
       "      <th>date_time</th>\n",
       "      <th>day_of_week</th>\n",
       "      <th>hour</th>\n",
       "      <th>total_events_user</th>\n",
       "      <th>total_events_item</th>\n",
       "      <th>unique_items_interacted</th>\n",
       "      <th>unique_users_interacted</th>\n",
       "      <th>interaction_value</th>\n",
       "    </tr>\n",
       "  </thead>\n",
       "  <tbody>\n",
       "    <tr>\n",
       "      <th>0</th>\n",
       "      <td>1433222276276</td>\n",
       "      <td>599528</td>\n",
       "      <td>transaction</td>\n",
       "      <td>356475</td>\n",
       "      <td>4000.0</td>\n",
       "      <td>2015-06-02 05:17:56.276</td>\n",
       "      <td>Tuesday</td>\n",
       "      <td>5</td>\n",
       "      <td>1</td>\n",
       "      <td>2</td>\n",
       "      <td>1</td>\n",
       "      <td>2</td>\n",
       "      <td>0.8</td>\n",
       "    </tr>\n",
       "    <tr>\n",
       "      <th>1</th>\n",
       "      <td>1433193500981</td>\n",
       "      <td>121688</td>\n",
       "      <td>transaction</td>\n",
       "      <td>15335</td>\n",
       "      <td>11117.0</td>\n",
       "      <td>2015-06-01 21:18:20.981</td>\n",
       "      <td>Monday</td>\n",
       "      <td>21</td>\n",
       "      <td>11</td>\n",
       "      <td>1</td>\n",
       "      <td>11</td>\n",
       "      <td>1</td>\n",
       "      <td>0.8</td>\n",
       "    </tr>\n",
       "    <tr>\n",
       "      <th>2</th>\n",
       "      <td>1433193915008</td>\n",
       "      <td>552148</td>\n",
       "      <td>transaction</td>\n",
       "      <td>81345</td>\n",
       "      <td>5444.0</td>\n",
       "      <td>2015-06-01 21:25:15.008</td>\n",
       "      <td>Monday</td>\n",
       "      <td>21</td>\n",
       "      <td>1</td>\n",
       "      <td>1</td>\n",
       "      <td>1</td>\n",
       "      <td>1</td>\n",
       "      <td>0.8</td>\n",
       "    </tr>\n",
       "    <tr>\n",
       "      <th>3</th>\n",
       "      <td>1433176736375</td>\n",
       "      <td>102019</td>\n",
       "      <td>transaction</td>\n",
       "      <td>150318</td>\n",
       "      <td>13556.0</td>\n",
       "      <td>2015-06-01 16:38:56.375</td>\n",
       "      <td>Monday</td>\n",
       "      <td>16</td>\n",
       "      <td>2</td>\n",
       "      <td>2</td>\n",
       "      <td>2</td>\n",
       "      <td>2</td>\n",
       "      <td>0.8</td>\n",
       "    </tr>\n",
       "    <tr>\n",
       "      <th>4</th>\n",
       "      <td>1433174518180</td>\n",
       "      <td>189384</td>\n",
       "      <td>transaction</td>\n",
       "      <td>310791</td>\n",
       "      <td>7244.0</td>\n",
       "      <td>2015-06-01 16:01:58.180</td>\n",
       "      <td>Monday</td>\n",
       "      <td>16</td>\n",
       "      <td>2</td>\n",
       "      <td>1</td>\n",
       "      <td>2</td>\n",
       "      <td>1</td>\n",
       "      <td>0.8</td>\n",
       "    </tr>\n",
       "  </tbody>\n",
       "</table>\n",
       "</div>"
      ],
      "text/plain": [
       "       timestamp  visitorid        event  itemid  transactionid  \\\n",
       "0  1433222276276     599528  transaction  356475         4000.0   \n",
       "1  1433193500981     121688  transaction   15335        11117.0   \n",
       "2  1433193915008     552148  transaction   81345         5444.0   \n",
       "3  1433176736375     102019  transaction  150318        13556.0   \n",
       "4  1433174518180     189384  transaction  310791         7244.0   \n",
       "\n",
       "                date_time day_of_week  hour  total_events_user  \\\n",
       "0 2015-06-02 05:17:56.276     Tuesday     5                  1   \n",
       "1 2015-06-01 21:18:20.981      Monday    21                 11   \n",
       "2 2015-06-01 21:25:15.008      Monday    21                  1   \n",
       "3 2015-06-01 16:38:56.375      Monday    16                  2   \n",
       "4 2015-06-01 16:01:58.180      Monday    16                  2   \n",
       "\n",
       "   total_events_item  unique_items_interacted  unique_users_interacted  \\\n",
       "0                  2                        1                        2   \n",
       "1                  1                       11                        1   \n",
       "2                  1                        1                        1   \n",
       "3                  2                        2                        2   \n",
       "4                  1                        2                        1   \n",
       "\n",
       "   interaction_value  \n",
       "0                0.8  \n",
       "1                0.8  \n",
       "2                0.8  \n",
       "3                0.8  \n",
       "4                0.8  "
      ]
     },
     "execution_count": 24,
     "metadata": {},
     "output_type": "execute_result"
    }
   ],
   "source": [
    "events_df.head()"
   ]
  },
  {
   "cell_type": "code",
   "execution_count": 25,
   "metadata": {},
   "outputs": [
    {
     "data": {
      "text/html": [
       "<div>\n",
       "<style scoped>\n",
       "    .dataframe tbody tr th:only-of-type {\n",
       "        vertical-align: middle;\n",
       "    }\n",
       "\n",
       "    .dataframe tbody tr th {\n",
       "        vertical-align: top;\n",
       "    }\n",
       "\n",
       "    .dataframe thead th {\n",
       "        text-align: right;\n",
       "    }\n",
       "</style>\n",
       "<table border=\"1\" class=\"dataframe\">\n",
       "  <thead>\n",
       "    <tr style=\"text-align: right;\">\n",
       "      <th></th>\n",
       "      <th>timestamp</th>\n",
       "      <th>itemid</th>\n",
       "      <th>property</th>\n",
       "      <th>value</th>\n",
       "    </tr>\n",
       "  </thead>\n",
       "  <tbody>\n",
       "    <tr>\n",
       "      <th>0</th>\n",
       "      <td>1435460400000</td>\n",
       "      <td>460429</td>\n",
       "      <td>categoryid</td>\n",
       "      <td>1338</td>\n",
       "    </tr>\n",
       "    <tr>\n",
       "      <th>1</th>\n",
       "      <td>1441508400000</td>\n",
       "      <td>206783</td>\n",
       "      <td>888</td>\n",
       "      <td>1116713 960601 n277.200</td>\n",
       "    </tr>\n",
       "    <tr>\n",
       "      <th>2</th>\n",
       "      <td>1439089200000</td>\n",
       "      <td>395014</td>\n",
       "      <td>400</td>\n",
       "      <td>n552.000 639502 n720.000 424566</td>\n",
       "    </tr>\n",
       "    <tr>\n",
       "      <th>3</th>\n",
       "      <td>1431226800000</td>\n",
       "      <td>59481</td>\n",
       "      <td>790</td>\n",
       "      <td>n15360.000</td>\n",
       "    </tr>\n",
       "    <tr>\n",
       "      <th>4</th>\n",
       "      <td>1431831600000</td>\n",
       "      <td>156781</td>\n",
       "      <td>917</td>\n",
       "      <td>828513</td>\n",
       "    </tr>\n",
       "  </tbody>\n",
       "</table>\n",
       "</div>"
      ],
      "text/plain": [
       "       timestamp  itemid    property                            value\n",
       "0  1435460400000  460429  categoryid                             1338\n",
       "1  1441508400000  206783         888          1116713 960601 n277.200\n",
       "2  1439089200000  395014         400  n552.000 639502 n720.000 424566\n",
       "3  1431226800000   59481         790                       n15360.000\n",
       "4  1431831600000  156781         917                           828513"
      ]
     },
     "execution_count": 25,
     "metadata": {},
     "output_type": "execute_result"
    }
   ],
   "source": [
    "item_properties_df.head()"
   ]
  },
  {
   "cell_type": "code",
   "execution_count": 26,
   "metadata": {},
   "outputs": [
    {
     "data": {
      "text/plain": [
       "1104"
      ]
     },
     "execution_count": 26,
     "metadata": {},
     "output_type": "execute_result"
    }
   ],
   "source": [
    "len(set(item_properties_df.property))"
   ]
  },
  {
   "cell_type": "markdown",
   "metadata": {},
   "source": [
    "# Customer Behaviour Exploration"
   ]
  },
  {
   "cell_type": "code",
   "execution_count": 27,
   "metadata": {},
   "outputs": [
    {
     "data": {
      "text/plain": [
       "22457"
      ]
     },
     "execution_count": 27,
     "metadata": {},
     "output_type": "execute_result"
    }
   ],
   "source": [
    "events_df.visitorid.size"
   ]
  },
  {
   "cell_type": "code",
   "execution_count": 28,
   "metadata": {},
   "outputs": [
    {
     "data": {
      "text/plain": [
       "11719"
      ]
     },
     "execution_count": 28,
     "metadata": {},
     "output_type": "execute_result"
    }
   ],
   "source": [
    "all_customers = events_df.visitorid.unique()\n",
    "all_customers.size"
   ]
  },
  {
   "cell_type": "code",
   "execution_count": 29,
   "metadata": {},
   "outputs": [
    {
     "data": {
      "text/plain": [
       "11719"
      ]
     },
     "execution_count": 29,
     "metadata": {},
     "output_type": "execute_result"
    }
   ],
   "source": [
    "customers_who_purchased = events_df[events_df.transactionid.notnull()].visitorid.unique()\n",
    "customers_who_purchased.size"
   ]
  },
  {
   "cell_type": "code",
   "execution_count": 30,
   "metadata": {},
   "outputs": [
    {
     "data": {
      "text/plain": [
       "0"
      ]
     },
     "execution_count": 30,
     "metadata": {},
     "output_type": "execute_result"
    }
   ],
   "source": [
    "customers_only_browsed = [x for x in all_customers if x not in customers_who_purchased]\n",
    "len(customers_only_browsed)"
   ]
  },
  {
   "cell_type": "code",
   "execution_count": 31,
   "metadata": {},
   "outputs": [
    {
     "data": {
      "text/html": [
       "<div>\n",
       "<style scoped>\n",
       "    .dataframe tbody tr th:only-of-type {\n",
       "        vertical-align: middle;\n",
       "    }\n",
       "\n",
       "    .dataframe tbody tr th {\n",
       "        vertical-align: top;\n",
       "    }\n",
       "\n",
       "    .dataframe thead th {\n",
       "        text-align: right;\n",
       "    }\n",
       "</style>\n",
       "<table border=\"1\" class=\"dataframe\">\n",
       "  <thead>\n",
       "    <tr style=\"text-align: right;\">\n",
       "      <th></th>\n",
       "      <th>timestamp</th>\n",
       "      <th>visitorid</th>\n",
       "      <th>event</th>\n",
       "      <th>itemid</th>\n",
       "      <th>transactionid</th>\n",
       "      <th>date_time</th>\n",
       "      <th>day_of_week</th>\n",
       "      <th>hour</th>\n",
       "      <th>total_events_user</th>\n",
       "      <th>total_events_item</th>\n",
       "      <th>unique_items_interacted</th>\n",
       "      <th>unique_users_interacted</th>\n",
       "      <th>interaction_value</th>\n",
       "    </tr>\n",
       "  </thead>\n",
       "  <tbody>\n",
       "    <tr>\n",
       "      <th>3</th>\n",
       "      <td>1433176736375</td>\n",
       "      <td>102019</td>\n",
       "      <td>transaction</td>\n",
       "      <td>150318</td>\n",
       "      <td>13556.0</td>\n",
       "      <td>2015-06-01 16:38:56.375</td>\n",
       "      <td>Monday</td>\n",
       "      <td>16</td>\n",
       "      <td>2</td>\n",
       "      <td>2</td>\n",
       "      <td>2</td>\n",
       "      <td>2</td>\n",
       "      <td>0.8</td>\n",
       "    </tr>\n",
       "    <tr>\n",
       "      <th>174</th>\n",
       "      <td>1433176736422</td>\n",
       "      <td>102019</td>\n",
       "      <td>transaction</td>\n",
       "      <td>49521</td>\n",
       "      <td>13556.0</td>\n",
       "      <td>2015-06-01 16:38:56.422</td>\n",
       "      <td>Monday</td>\n",
       "      <td>16</td>\n",
       "      <td>2</td>\n",
       "      <td>1</td>\n",
       "      <td>2</td>\n",
       "      <td>1</td>\n",
       "      <td>0.8</td>\n",
       "    </tr>\n",
       "  </tbody>\n",
       "</table>\n",
       "</div>"
      ],
      "text/plain": [
       "         timestamp  visitorid        event  itemid  transactionid  \\\n",
       "3    1433176736375     102019  transaction  150318        13556.0   \n",
       "174  1433176736422     102019  transaction   49521        13556.0   \n",
       "\n",
       "                  date_time day_of_week  hour  total_events_user  \\\n",
       "3   2015-06-01 16:38:56.375      Monday    16                  2   \n",
       "174 2015-06-01 16:38:56.422      Monday    16                  2   \n",
       "\n",
       "     total_events_item  unique_items_interacted  unique_users_interacted  \\\n",
       "3                    2                        2                        2   \n",
       "174                  1                        2                        1   \n",
       "\n",
       "     interaction_value  \n",
       "3                  0.8  \n",
       "174                0.8  "
      ]
     },
     "execution_count": 31,
     "metadata": {},
     "output_type": "execute_result"
    }
   ],
   "source": [
    "# Buying journey of random customer\n",
    "events_df[events_df.visitorid == 102019].sort_values('timestamp')"
   ]
  },
  {
   "cell_type": "code",
   "execution_count": 32,
   "metadata": {},
   "outputs": [
    {
     "data": {
      "text/html": [
       "<div>\n",
       "<style scoped>\n",
       "    .dataframe tbody tr th:only-of-type {\n",
       "        vertical-align: middle;\n",
       "    }\n",
       "\n",
       "    .dataframe tbody tr th {\n",
       "        vertical-align: top;\n",
       "    }\n",
       "\n",
       "    .dataframe thead th {\n",
       "        text-align: right;\n",
       "    }\n",
       "</style>\n",
       "<table border=\"1\" class=\"dataframe\">\n",
       "  <thead>\n",
       "    <tr style=\"text-align: right;\">\n",
       "      <th></th>\n",
       "      <th>timestamp</th>\n",
       "      <th>visitorid</th>\n",
       "      <th>event</th>\n",
       "      <th>itemid</th>\n",
       "      <th>transactionid</th>\n",
       "      <th>date_time</th>\n",
       "      <th>day_of_week</th>\n",
       "      <th>hour</th>\n",
       "      <th>total_events_user</th>\n",
       "      <th>total_events_item</th>\n",
       "      <th>unique_items_interacted</th>\n",
       "      <th>unique_users_interacted</th>\n",
       "      <th>interaction_value</th>\n",
       "    </tr>\n",
       "  </thead>\n",
       "  <tbody>\n",
       "    <tr>\n",
       "      <th>0</th>\n",
       "      <td>1433222276276</td>\n",
       "      <td>599528</td>\n",
       "      <td>transaction</td>\n",
       "      <td>356475</td>\n",
       "      <td>4000.0</td>\n",
       "      <td>2015-06-02 05:17:56.276</td>\n",
       "      <td>Tuesday</td>\n",
       "      <td>5</td>\n",
       "      <td>1</td>\n",
       "      <td>2</td>\n",
       "      <td>1</td>\n",
       "      <td>2</td>\n",
       "      <td>0.8</td>\n",
       "    </tr>\n",
       "    <tr>\n",
       "      <th>1</th>\n",
       "      <td>1433193500981</td>\n",
       "      <td>121688</td>\n",
       "      <td>transaction</td>\n",
       "      <td>15335</td>\n",
       "      <td>11117.0</td>\n",
       "      <td>2015-06-01 21:18:20.981</td>\n",
       "      <td>Monday</td>\n",
       "      <td>21</td>\n",
       "      <td>11</td>\n",
       "      <td>1</td>\n",
       "      <td>11</td>\n",
       "      <td>1</td>\n",
       "      <td>0.8</td>\n",
       "    </tr>\n",
       "    <tr>\n",
       "      <th>2</th>\n",
       "      <td>1433193915008</td>\n",
       "      <td>552148</td>\n",
       "      <td>transaction</td>\n",
       "      <td>81345</td>\n",
       "      <td>5444.0</td>\n",
       "      <td>2015-06-01 21:25:15.008</td>\n",
       "      <td>Monday</td>\n",
       "      <td>21</td>\n",
       "      <td>1</td>\n",
       "      <td>1</td>\n",
       "      <td>1</td>\n",
       "      <td>1</td>\n",
       "      <td>0.8</td>\n",
       "    </tr>\n",
       "    <tr>\n",
       "      <th>3</th>\n",
       "      <td>1433176736375</td>\n",
       "      <td>102019</td>\n",
       "      <td>transaction</td>\n",
       "      <td>150318</td>\n",
       "      <td>13556.0</td>\n",
       "      <td>2015-06-01 16:38:56.375</td>\n",
       "      <td>Monday</td>\n",
       "      <td>16</td>\n",
       "      <td>2</td>\n",
       "      <td>2</td>\n",
       "      <td>2</td>\n",
       "      <td>2</td>\n",
       "      <td>0.8</td>\n",
       "    </tr>\n",
       "    <tr>\n",
       "      <th>4</th>\n",
       "      <td>1433174518180</td>\n",
       "      <td>189384</td>\n",
       "      <td>transaction</td>\n",
       "      <td>310791</td>\n",
       "      <td>7244.0</td>\n",
       "      <td>2015-06-01 16:01:58.180</td>\n",
       "      <td>Monday</td>\n",
       "      <td>16</td>\n",
       "      <td>2</td>\n",
       "      <td>1</td>\n",
       "      <td>2</td>\n",
       "      <td>1</td>\n",
       "      <td>0.8</td>\n",
       "    </tr>\n",
       "  </tbody>\n",
       "</table>\n",
       "</div>"
      ],
      "text/plain": [
       "       timestamp  visitorid        event  itemid  transactionid  \\\n",
       "0  1433222276276     599528  transaction  356475         4000.0   \n",
       "1  1433193500981     121688  transaction   15335        11117.0   \n",
       "2  1433193915008     552148  transaction   81345         5444.0   \n",
       "3  1433176736375     102019  transaction  150318        13556.0   \n",
       "4  1433174518180     189384  transaction  310791         7244.0   \n",
       "\n",
       "                date_time day_of_week  hour  total_events_user  \\\n",
       "0 2015-06-02 05:17:56.276     Tuesday     5                  1   \n",
       "1 2015-06-01 21:18:20.981      Monday    21                 11   \n",
       "2 2015-06-01 21:25:15.008      Monday    21                  1   \n",
       "3 2015-06-01 16:38:56.375      Monday    16                  2   \n",
       "4 2015-06-01 16:01:58.180      Monday    16                  2   \n",
       "\n",
       "   total_events_item  unique_items_interacted  unique_users_interacted  \\\n",
       "0                  2                        1                        2   \n",
       "1                  1                       11                        1   \n",
       "2                  1                        1                        1   \n",
       "3                  2                        2                        2   \n",
       "4                  1                        2                        1   \n",
       "\n",
       "   interaction_value  \n",
       "0                0.8  \n",
       "1                0.8  \n",
       "2                0.8  \n",
       "3                0.8  \n",
       "4                0.8  "
      ]
     },
     "execution_count": 32,
     "metadata": {},
     "output_type": "execute_result"
    }
   ],
   "source": [
    "events_df.head()"
   ]
  },
  {
   "cell_type": "code",
   "execution_count": 33,
   "metadata": {},
   "outputs": [],
   "source": [
    "user_behavior_df = events_df.groupby('visitorid').agg({\n",
    "    'itemid':'count',\n",
    "    'timestamp': ['min' ,'max','mean']\n",
    "}).reset_index()\n",
    "\n",
    "user_behavior_df.columns = ['visitorid', 'item_count', 'first_interaction', 'last_interaction', 'avg_interaction_time']\n",
    "user_behavior_df['time_on_platform'] = user_behavior_df['last_interaction'] - user_behavior_df['first_interaction']\n",
    "user_behavior_df['time_between_actions'] = user_behavior_df['time_on_platform'] / (user_behavior_df['item_count'] - 1)"
   ]
  },
  {
   "cell_type": "code",
   "execution_count": 34,
   "metadata": {},
   "outputs": [
    {
     "data": {
      "text/html": [
       "<div>\n",
       "<style scoped>\n",
       "    .dataframe tbody tr th:only-of-type {\n",
       "        vertical-align: middle;\n",
       "    }\n",
       "\n",
       "    .dataframe tbody tr th {\n",
       "        vertical-align: top;\n",
       "    }\n",
       "\n",
       "    .dataframe thead th {\n",
       "        text-align: right;\n",
       "    }\n",
       "</style>\n",
       "<table border=\"1\" class=\"dataframe\">\n",
       "  <thead>\n",
       "    <tr style=\"text-align: right;\">\n",
       "      <th></th>\n",
       "      <th>visitorid</th>\n",
       "      <th>item_count</th>\n",
       "      <th>first_interaction</th>\n",
       "      <th>last_interaction</th>\n",
       "      <th>avg_interaction_time</th>\n",
       "      <th>time_on_platform</th>\n",
       "      <th>time_between_actions</th>\n",
       "    </tr>\n",
       "  </thead>\n",
       "  <tbody>\n",
       "    <tr>\n",
       "      <th>0</th>\n",
       "      <td>172</td>\n",
       "      <td>2</td>\n",
       "      <td>1439602141230</td>\n",
       "      <td>1439602141686</td>\n",
       "      <td>1.439602e+12</td>\n",
       "      <td>456</td>\n",
       "      <td>456.0</td>\n",
       "    </tr>\n",
       "    <tr>\n",
       "      <th>1</th>\n",
       "      <td>186</td>\n",
       "      <td>1</td>\n",
       "      <td>1439397297040</td>\n",
       "      <td>1439397297040</td>\n",
       "      <td>1.439397e+12</td>\n",
       "      <td>0</td>\n",
       "      <td>NaN</td>\n",
       "    </tr>\n",
       "    <tr>\n",
       "      <th>2</th>\n",
       "      <td>264</td>\n",
       "      <td>2</td>\n",
       "      <td>1441647285614</td>\n",
       "      <td>1441647285708</td>\n",
       "      <td>1.441647e+12</td>\n",
       "      <td>94</td>\n",
       "      <td>94.0</td>\n",
       "    </tr>\n",
       "    <tr>\n",
       "      <th>3</th>\n",
       "      <td>419</td>\n",
       "      <td>1</td>\n",
       "      <td>1438146192695</td>\n",
       "      <td>1438146192695</td>\n",
       "      <td>1.438146e+12</td>\n",
       "      <td>0</td>\n",
       "      <td>NaN</td>\n",
       "    </tr>\n",
       "    <tr>\n",
       "      <th>4</th>\n",
       "      <td>539</td>\n",
       "      <td>1</td>\n",
       "      <td>1434433178673</td>\n",
       "      <td>1434433178673</td>\n",
       "      <td>1.434433e+12</td>\n",
       "      <td>0</td>\n",
       "      <td>NaN</td>\n",
       "    </tr>\n",
       "  </tbody>\n",
       "</table>\n",
       "</div>"
      ],
      "text/plain": [
       "   visitorid  item_count  first_interaction  last_interaction  \\\n",
       "0        172           2      1439602141230     1439602141686   \n",
       "1        186           1      1439397297040     1439397297040   \n",
       "2        264           2      1441647285614     1441647285708   \n",
       "3        419           1      1438146192695     1438146192695   \n",
       "4        539           1      1434433178673     1434433178673   \n",
       "\n",
       "   avg_interaction_time  time_on_platform  time_between_actions  \n",
       "0          1.439602e+12               456                 456.0  \n",
       "1          1.439397e+12                 0                   NaN  \n",
       "2          1.441647e+12                94                  94.0  \n",
       "3          1.438146e+12                 0                   NaN  \n",
       "4          1.434433e+12                 0                   NaN  "
      ]
     },
     "execution_count": 34,
     "metadata": {},
     "output_type": "execute_result"
    }
   ],
   "source": [
    "user_behavior_df.head()"
   ]
  },
  {
   "cell_type": "code",
   "execution_count": 35,
   "metadata": {},
   "outputs": [],
   "source": [
    "item_popularity_df = events_df.groupby('itemid').agg({\n",
    "    'visitorid':'count',\n",
    "     'event': ['nunique',lambda  x : sum(x == 'view'),\n",
    "              lambda x:sum(x =='addtocart'),\n",
    "              lambda x:sum(x =='transaction')]\n",
    "   }).reset_index()\n",
    "\n",
    "item_popularity_df.columns=['itemid','user_count','event_count','view_count','addtocart_count','transaction_count']\n",
    "item_popularity_df['conversion rate'] = item_popularity_df['transaction_count'] / item_popularity_df['addtocart_count']"
   ]
  },
  {
   "cell_type": "code",
   "execution_count": 36,
   "metadata": {},
   "outputs": [
    {
     "data": {
      "text/html": [
       "<div>\n",
       "<style scoped>\n",
       "    .dataframe tbody tr th:only-of-type {\n",
       "        vertical-align: middle;\n",
       "    }\n",
       "\n",
       "    .dataframe tbody tr th {\n",
       "        vertical-align: top;\n",
       "    }\n",
       "\n",
       "    .dataframe thead th {\n",
       "        text-align: right;\n",
       "    }\n",
       "</style>\n",
       "<table border=\"1\" class=\"dataframe\">\n",
       "  <thead>\n",
       "    <tr style=\"text-align: right;\">\n",
       "      <th></th>\n",
       "      <th>itemid</th>\n",
       "      <th>user_count</th>\n",
       "      <th>event_count</th>\n",
       "      <th>view_count</th>\n",
       "      <th>addtocart_count</th>\n",
       "      <th>transaction_count</th>\n",
       "      <th>conversion rate</th>\n",
       "    </tr>\n",
       "  </thead>\n",
       "  <tbody>\n",
       "    <tr>\n",
       "      <th>0</th>\n",
       "      <td>15</td>\n",
       "      <td>1</td>\n",
       "      <td>1</td>\n",
       "      <td>0</td>\n",
       "      <td>0</td>\n",
       "      <td>1</td>\n",
       "      <td>inf</td>\n",
       "    </tr>\n",
       "    <tr>\n",
       "      <th>1</th>\n",
       "      <td>19</td>\n",
       "      <td>1</td>\n",
       "      <td>1</td>\n",
       "      <td>0</td>\n",
       "      <td>0</td>\n",
       "      <td>1</td>\n",
       "      <td>inf</td>\n",
       "    </tr>\n",
       "    <tr>\n",
       "      <th>2</th>\n",
       "      <td>25</td>\n",
       "      <td>2</td>\n",
       "      <td>1</td>\n",
       "      <td>0</td>\n",
       "      <td>0</td>\n",
       "      <td>2</td>\n",
       "      <td>inf</td>\n",
       "    </tr>\n",
       "    <tr>\n",
       "      <th>3</th>\n",
       "      <td>42</td>\n",
       "      <td>1</td>\n",
       "      <td>1</td>\n",
       "      <td>0</td>\n",
       "      <td>0</td>\n",
       "      <td>1</td>\n",
       "      <td>inf</td>\n",
       "    </tr>\n",
       "    <tr>\n",
       "      <th>4</th>\n",
       "      <td>147</td>\n",
       "      <td>4</td>\n",
       "      <td>1</td>\n",
       "      <td>0</td>\n",
       "      <td>0</td>\n",
       "      <td>4</td>\n",
       "      <td>inf</td>\n",
       "    </tr>\n",
       "  </tbody>\n",
       "</table>\n",
       "</div>"
      ],
      "text/plain": [
       "   itemid  user_count  event_count  view_count  addtocart_count  \\\n",
       "0      15           1            1           0                0   \n",
       "1      19           1            1           0                0   \n",
       "2      25           2            1           0                0   \n",
       "3      42           1            1           0                0   \n",
       "4     147           4            1           0                0   \n",
       "\n",
       "   transaction_count  conversion rate  \n",
       "0                  1              inf  \n",
       "1                  1              inf  \n",
       "2                  2              inf  \n",
       "3                  1              inf  \n",
       "4                  4              inf  "
      ]
     },
     "execution_count": 36,
     "metadata": {},
     "output_type": "execute_result"
    }
   ],
   "source": [
    "item_popularity_df.head()"
   ]
  },
  {
   "cell_type": "code",
   "execution_count": 37,
   "metadata": {},
   "outputs": [
    {
     "data": {
      "text/html": [
       "<div>\n",
       "<style scoped>\n",
       "    .dataframe tbody tr th:only-of-type {\n",
       "        vertical-align: middle;\n",
       "    }\n",
       "\n",
       "    .dataframe tbody tr th {\n",
       "        vertical-align: top;\n",
       "    }\n",
       "\n",
       "    .dataframe thead th {\n",
       "        text-align: right;\n",
       "    }\n",
       "</style>\n",
       "<table border=\"1\" class=\"dataframe\">\n",
       "  <thead>\n",
       "    <tr style=\"text-align: right;\">\n",
       "      <th></th>\n",
       "      <th>visitorid</th>\n",
       "      <th>itemid</th>\n",
       "      <th>interaction_count</th>\n",
       "      <th>first_interaction</th>\n",
       "      <th>last_interaction</th>\n",
       "      <th>time_between_interaction</th>\n",
       "    </tr>\n",
       "  </thead>\n",
       "  <tbody>\n",
       "    <tr>\n",
       "      <th>0</th>\n",
       "      <td>172</td>\n",
       "      <td>10034</td>\n",
       "      <td>1</td>\n",
       "      <td>1439602141686</td>\n",
       "      <td>1439602141686</td>\n",
       "      <td>0</td>\n",
       "    </tr>\n",
       "    <tr>\n",
       "      <th>1</th>\n",
       "      <td>172</td>\n",
       "      <td>465522</td>\n",
       "      <td>1</td>\n",
       "      <td>1439602141230</td>\n",
       "      <td>1439602141230</td>\n",
       "      <td>0</td>\n",
       "    </tr>\n",
       "    <tr>\n",
       "      <th>2</th>\n",
       "      <td>186</td>\n",
       "      <td>49029</td>\n",
       "      <td>1</td>\n",
       "      <td>1439397297040</td>\n",
       "      <td>1439397297040</td>\n",
       "      <td>0</td>\n",
       "    </tr>\n",
       "    <tr>\n",
       "      <th>3</th>\n",
       "      <td>264</td>\n",
       "      <td>161949</td>\n",
       "      <td>1</td>\n",
       "      <td>1441647285708</td>\n",
       "      <td>1441647285708</td>\n",
       "      <td>0</td>\n",
       "    </tr>\n",
       "    <tr>\n",
       "      <th>4</th>\n",
       "      <td>264</td>\n",
       "      <td>459835</td>\n",
       "      <td>1</td>\n",
       "      <td>1441647285614</td>\n",
       "      <td>1441647285614</td>\n",
       "      <td>0</td>\n",
       "    </tr>\n",
       "    <tr>\n",
       "      <th>...</th>\n",
       "      <td>...</td>\n",
       "      <td>...</td>\n",
       "      <td>...</td>\n",
       "      <td>...</td>\n",
       "      <td>...</td>\n",
       "      <td>...</td>\n",
       "    </tr>\n",
       "    <tr>\n",
       "      <th>21265</th>\n",
       "      <td>1406787</td>\n",
       "      <td>336832</td>\n",
       "      <td>1</td>\n",
       "      <td>1433177808042</td>\n",
       "      <td>1433177808042</td>\n",
       "      <td>0</td>\n",
       "    </tr>\n",
       "    <tr>\n",
       "      <th>21266</th>\n",
       "      <td>1406981</td>\n",
       "      <td>436004</td>\n",
       "      <td>1</td>\n",
       "      <td>1431988101266</td>\n",
       "      <td>1431988101266</td>\n",
       "      <td>0</td>\n",
       "    </tr>\n",
       "    <tr>\n",
       "      <th>21267</th>\n",
       "      <td>1407070</td>\n",
       "      <td>215596</td>\n",
       "      <td>1</td>\n",
       "      <td>1431556875160</td>\n",
       "      <td>1431556875160</td>\n",
       "      <td>0</td>\n",
       "    </tr>\n",
       "    <tr>\n",
       "      <th>21268</th>\n",
       "      <td>1407110</td>\n",
       "      <td>360922</td>\n",
       "      <td>1</td>\n",
       "      <td>1438729885624</td>\n",
       "      <td>1438729885624</td>\n",
       "      <td>0</td>\n",
       "    </tr>\n",
       "    <tr>\n",
       "      <th>21269</th>\n",
       "      <td>1407398</td>\n",
       "      <td>218917</td>\n",
       "      <td>1</td>\n",
       "      <td>1436240835969</td>\n",
       "      <td>1436240835969</td>\n",
       "      <td>0</td>\n",
       "    </tr>\n",
       "  </tbody>\n",
       "</table>\n",
       "<p>21270 rows × 6 columns</p>\n",
       "</div>"
      ],
      "text/plain": [
       "       visitorid  itemid  interaction_count  first_interaction  \\\n",
       "0            172   10034                  1      1439602141686   \n",
       "1            172  465522                  1      1439602141230   \n",
       "2            186   49029                  1      1439397297040   \n",
       "3            264  161949                  1      1441647285708   \n",
       "4            264  459835                  1      1441647285614   \n",
       "...          ...     ...                ...                ...   \n",
       "21265    1406787  336832                  1      1433177808042   \n",
       "21266    1406981  436004                  1      1431988101266   \n",
       "21267    1407070  215596                  1      1431556875160   \n",
       "21268    1407110  360922                  1      1438729885624   \n",
       "21269    1407398  218917                  1      1436240835969   \n",
       "\n",
       "       last_interaction  time_between_interaction  \n",
       "0         1439602141686                         0  \n",
       "1         1439602141230                         0  \n",
       "2         1439397297040                         0  \n",
       "3         1441647285708                         0  \n",
       "4         1441647285614                         0  \n",
       "...                 ...                       ...  \n",
       "21265     1433177808042                         0  \n",
       "21266     1431988101266                         0  \n",
       "21267     1431556875160                         0  \n",
       "21268     1438729885624                         0  \n",
       "21269     1436240835969                         0  \n",
       "\n",
       "[21270 rows x 6 columns]"
      ]
     },
     "execution_count": 37,
     "metadata": {},
     "output_type": "execute_result"
    }
   ],
   "source": [
    "#user_item interaction feature\n",
    "user_item_interaction_df = events_df.groupby(['visitorid' ,'itemid']).agg({\n",
    "    'event':'count',\n",
    "    'timestamp' : ['min' ,'max']\n",
    "    }).reset_index()\n",
    "user_item_interaction_df.columns =['visitorid','itemid' ,'interaction_count','first_interaction','last_interaction']\n",
    "user_item_interaction_df['time_between_interaction'] = user_item_interaction_df['last_interaction'] -user_item_interaction_df['first_interaction']\n",
    "user_item_interaction_df"
   ]
  },
  {
   "cell_type": "code",
   "execution_count": 38,
   "metadata": {},
   "outputs": [],
   "source": [
    "# Remove non-telling features\n",
    "user_feature = user_behavior_df.drop(['first_interaction' ,'last_interaction'],axis=1)\n",
    "item_feature = item_popularity_df.drop(['view_count','addtocart_count','transaction_count'],axis=1)\n",
    "user_item_interaction_feature = user_item_interaction_df.drop(['first_interaction','last_interaction'],axis=1)\n",
    "\n",
    "features_df = user_item_interaction_feature.merge(user_feature,on='visitorid').merge(item_feature, on='itemid')"
   ]
  },
  {
   "cell_type": "code",
   "execution_count": 39,
   "metadata": {},
   "outputs": [
    {
     "data": {
      "text/html": [
       "<div>\n",
       "<style scoped>\n",
       "    .dataframe tbody tr th:only-of-type {\n",
       "        vertical-align: middle;\n",
       "    }\n",
       "\n",
       "    .dataframe tbody tr th {\n",
       "        vertical-align: top;\n",
       "    }\n",
       "\n",
       "    .dataframe thead th {\n",
       "        text-align: right;\n",
       "    }\n",
       "</style>\n",
       "<table border=\"1\" class=\"dataframe\">\n",
       "  <thead>\n",
       "    <tr style=\"text-align: right;\">\n",
       "      <th></th>\n",
       "      <th>visitorid</th>\n",
       "      <th>itemid</th>\n",
       "      <th>interaction_count</th>\n",
       "      <th>time_between_interaction</th>\n",
       "      <th>item_count</th>\n",
       "      <th>avg_interaction_time</th>\n",
       "      <th>time_on_platform</th>\n",
       "      <th>time_between_actions</th>\n",
       "      <th>user_count</th>\n",
       "      <th>event_count</th>\n",
       "      <th>conversion rate</th>\n",
       "    </tr>\n",
       "  </thead>\n",
       "  <tbody>\n",
       "    <tr>\n",
       "      <th>0</th>\n",
       "      <td>172</td>\n",
       "      <td>10034</td>\n",
       "      <td>1</td>\n",
       "      <td>0</td>\n",
       "      <td>2</td>\n",
       "      <td>1.439602e+12</td>\n",
       "      <td>456</td>\n",
       "      <td>456.0</td>\n",
       "      <td>4</td>\n",
       "      <td>1</td>\n",
       "      <td>inf</td>\n",
       "    </tr>\n",
       "    <tr>\n",
       "      <th>1</th>\n",
       "      <td>172</td>\n",
       "      <td>465522</td>\n",
       "      <td>1</td>\n",
       "      <td>0</td>\n",
       "      <td>2</td>\n",
       "      <td>1.439602e+12</td>\n",
       "      <td>456</td>\n",
       "      <td>456.0</td>\n",
       "      <td>10</td>\n",
       "      <td>1</td>\n",
       "      <td>inf</td>\n",
       "    </tr>\n",
       "    <tr>\n",
       "      <th>2</th>\n",
       "      <td>186</td>\n",
       "      <td>49029</td>\n",
       "      <td>1</td>\n",
       "      <td>0</td>\n",
       "      <td>1</td>\n",
       "      <td>1.439397e+12</td>\n",
       "      <td>0</td>\n",
       "      <td>NaN</td>\n",
       "      <td>3</td>\n",
       "      <td>1</td>\n",
       "      <td>inf</td>\n",
       "    </tr>\n",
       "    <tr>\n",
       "      <th>3</th>\n",
       "      <td>264</td>\n",
       "      <td>161949</td>\n",
       "      <td>1</td>\n",
       "      <td>0</td>\n",
       "      <td>2</td>\n",
       "      <td>1.441647e+12</td>\n",
       "      <td>94</td>\n",
       "      <td>94.0</td>\n",
       "      <td>1</td>\n",
       "      <td>1</td>\n",
       "      <td>inf</td>\n",
       "    </tr>\n",
       "    <tr>\n",
       "      <th>4</th>\n",
       "      <td>264</td>\n",
       "      <td>459835</td>\n",
       "      <td>1</td>\n",
       "      <td>0</td>\n",
       "      <td>2</td>\n",
       "      <td>1.441647e+12</td>\n",
       "      <td>94</td>\n",
       "      <td>94.0</td>\n",
       "      <td>4</td>\n",
       "      <td>1</td>\n",
       "      <td>inf</td>\n",
       "    </tr>\n",
       "  </tbody>\n",
       "</table>\n",
       "</div>"
      ],
      "text/plain": [
       "   visitorid  itemid  interaction_count  time_between_interaction  item_count  \\\n",
       "0        172   10034                  1                         0           2   \n",
       "1        172  465522                  1                         0           2   \n",
       "2        186   49029                  1                         0           1   \n",
       "3        264  161949                  1                         0           2   \n",
       "4        264  459835                  1                         0           2   \n",
       "\n",
       "   avg_interaction_time  time_on_platform  time_between_actions  user_count  \\\n",
       "0          1.439602e+12               456                 456.0           4   \n",
       "1          1.439602e+12               456                 456.0          10   \n",
       "2          1.439397e+12                 0                   NaN           3   \n",
       "3          1.441647e+12                94                  94.0           1   \n",
       "4          1.441647e+12                94                  94.0           4   \n",
       "\n",
       "   event_count  conversion rate  \n",
       "0            1              inf  \n",
       "1            1              inf  \n",
       "2            1              inf  \n",
       "3            1              inf  \n",
       "4            1              inf  "
      ]
     },
     "execution_count": 39,
     "metadata": {},
     "output_type": "execute_result"
    }
   ],
   "source": [
    "features_df.head()"
   ]
  },
  {
   "cell_type": "code",
   "execution_count": 40,
   "metadata": {},
   "outputs": [
    {
     "data": {
      "text/html": [
       "<div>\n",
       "<style scoped>\n",
       "    .dataframe tbody tr th:only-of-type {\n",
       "        vertical-align: middle;\n",
       "    }\n",
       "\n",
       "    .dataframe tbody tr th {\n",
       "        vertical-align: top;\n",
       "    }\n",
       "\n",
       "    .dataframe thead th {\n",
       "        text-align: right;\n",
       "    }\n",
       "</style>\n",
       "<table border=\"1\" class=\"dataframe\">\n",
       "  <thead>\n",
       "    <tr style=\"text-align: right;\">\n",
       "      <th></th>\n",
       "      <th>visitorid</th>\n",
       "      <th>itemid</th>\n",
       "      <th>interaction_count</th>\n",
       "      <th>time_between_interaction</th>\n",
       "      <th>item_count</th>\n",
       "      <th>avg_interaction_time</th>\n",
       "      <th>time_on_platform</th>\n",
       "      <th>time_between_actions</th>\n",
       "      <th>user_count</th>\n",
       "      <th>event_count</th>\n",
       "      <th>conversion rate</th>\n",
       "    </tr>\n",
       "  </thead>\n",
       "  <tbody>\n",
       "    <tr>\n",
       "      <th>0</th>\n",
       "      <td>172</td>\n",
       "      <td>10034</td>\n",
       "      <td>1</td>\n",
       "      <td>0</td>\n",
       "      <td>2</td>\n",
       "      <td>1.439602e+12</td>\n",
       "      <td>456</td>\n",
       "      <td>456.0</td>\n",
       "      <td>4</td>\n",
       "      <td>1</td>\n",
       "      <td>NaN</td>\n",
       "    </tr>\n",
       "    <tr>\n",
       "      <th>1</th>\n",
       "      <td>172</td>\n",
       "      <td>465522</td>\n",
       "      <td>1</td>\n",
       "      <td>0</td>\n",
       "      <td>2</td>\n",
       "      <td>1.439602e+12</td>\n",
       "      <td>456</td>\n",
       "      <td>456.0</td>\n",
       "      <td>10</td>\n",
       "      <td>1</td>\n",
       "      <td>NaN</td>\n",
       "    </tr>\n",
       "    <tr>\n",
       "      <th>2</th>\n",
       "      <td>186</td>\n",
       "      <td>49029</td>\n",
       "      <td>1</td>\n",
       "      <td>0</td>\n",
       "      <td>1</td>\n",
       "      <td>1.439397e+12</td>\n",
       "      <td>0</td>\n",
       "      <td>11270122.0</td>\n",
       "      <td>3</td>\n",
       "      <td>1</td>\n",
       "      <td>NaN</td>\n",
       "    </tr>\n",
       "    <tr>\n",
       "      <th>3</th>\n",
       "      <td>264</td>\n",
       "      <td>161949</td>\n",
       "      <td>1</td>\n",
       "      <td>0</td>\n",
       "      <td>2</td>\n",
       "      <td>1.441647e+12</td>\n",
       "      <td>94</td>\n",
       "      <td>94.0</td>\n",
       "      <td>1</td>\n",
       "      <td>1</td>\n",
       "      <td>NaN</td>\n",
       "    </tr>\n",
       "    <tr>\n",
       "      <th>4</th>\n",
       "      <td>264</td>\n",
       "      <td>459835</td>\n",
       "      <td>1</td>\n",
       "      <td>0</td>\n",
       "      <td>2</td>\n",
       "      <td>1.441647e+12</td>\n",
       "      <td>94</td>\n",
       "      <td>94.0</td>\n",
       "      <td>4</td>\n",
       "      <td>1</td>\n",
       "      <td>NaN</td>\n",
       "    </tr>\n",
       "    <tr>\n",
       "      <th>5</th>\n",
       "      <td>419</td>\n",
       "      <td>19278</td>\n",
       "      <td>1</td>\n",
       "      <td>0</td>\n",
       "      <td>1</td>\n",
       "      <td>1.438146e+12</td>\n",
       "      <td>0</td>\n",
       "      <td>11270122.0</td>\n",
       "      <td>5</td>\n",
       "      <td>1</td>\n",
       "      <td>NaN</td>\n",
       "    </tr>\n",
       "    <tr>\n",
       "      <th>6</th>\n",
       "      <td>539</td>\n",
       "      <td>94371</td>\n",
       "      <td>1</td>\n",
       "      <td>0</td>\n",
       "      <td>1</td>\n",
       "      <td>1.434433e+12</td>\n",
       "      <td>0</td>\n",
       "      <td>11270122.0</td>\n",
       "      <td>1</td>\n",
       "      <td>1</td>\n",
       "      <td>NaN</td>\n",
       "    </tr>\n",
       "    <tr>\n",
       "      <th>7</th>\n",
       "      <td>627</td>\n",
       "      <td>414182</td>\n",
       "      <td>1</td>\n",
       "      <td>0</td>\n",
       "      <td>1</td>\n",
       "      <td>1.440104e+12</td>\n",
       "      <td>0</td>\n",
       "      <td>11270122.0</td>\n",
       "      <td>1</td>\n",
       "      <td>1</td>\n",
       "      <td>NaN</td>\n",
       "    </tr>\n",
       "    <tr>\n",
       "      <th>8</th>\n",
       "      <td>795</td>\n",
       "      <td>207825</td>\n",
       "      <td>1</td>\n",
       "      <td>0</td>\n",
       "      <td>1</td>\n",
       "      <td>1.439244e+12</td>\n",
       "      <td>0</td>\n",
       "      <td>11270122.0</td>\n",
       "      <td>5</td>\n",
       "      <td>1</td>\n",
       "      <td>NaN</td>\n",
       "    </tr>\n",
       "    <tr>\n",
       "      <th>9</th>\n",
       "      <td>914</td>\n",
       "      <td>382946</td>\n",
       "      <td>1</td>\n",
       "      <td>0</td>\n",
       "      <td>1</td>\n",
       "      <td>1.439859e+12</td>\n",
       "      <td>0</td>\n",
       "      <td>11270122.0</td>\n",
       "      <td>2</td>\n",
       "      <td>1</td>\n",
       "      <td>NaN</td>\n",
       "    </tr>\n",
       "  </tbody>\n",
       "</table>\n",
       "</div>"
      ],
      "text/plain": [
       "   visitorid  itemid  interaction_count  time_between_interaction  item_count  \\\n",
       "0        172   10034                  1                         0           2   \n",
       "1        172  465522                  1                         0           2   \n",
       "2        186   49029                  1                         0           1   \n",
       "3        264  161949                  1                         0           2   \n",
       "4        264  459835                  1                         0           2   \n",
       "5        419   19278                  1                         0           1   \n",
       "6        539   94371                  1                         0           1   \n",
       "7        627  414182                  1                         0           1   \n",
       "8        795  207825                  1                         0           1   \n",
       "9        914  382946                  1                         0           1   \n",
       "\n",
       "   avg_interaction_time  time_on_platform  time_between_actions  user_count  \\\n",
       "0          1.439602e+12               456                 456.0           4   \n",
       "1          1.439602e+12               456                 456.0          10   \n",
       "2          1.439397e+12                 0            11270122.0           3   \n",
       "3          1.441647e+12                94                  94.0           1   \n",
       "4          1.441647e+12                94                  94.0           4   \n",
       "5          1.438146e+12                 0            11270122.0           5   \n",
       "6          1.434433e+12                 0            11270122.0           1   \n",
       "7          1.440104e+12                 0            11270122.0           1   \n",
       "8          1.439244e+12                 0            11270122.0           5   \n",
       "9          1.439859e+12                 0            11270122.0           2   \n",
       "\n",
       "   event_count  conversion rate  \n",
       "0            1              NaN  \n",
       "1            1              NaN  \n",
       "2            1              NaN  \n",
       "3            1              NaN  \n",
       "4            1              NaN  \n",
       "5            1              NaN  \n",
       "6            1              NaN  \n",
       "7            1              NaN  \n",
       "8            1              NaN  \n",
       "9            1              NaN  "
      ]
     },
     "execution_count": 40,
     "metadata": {},
     "output_type": "execute_result"
    }
   ],
   "source": [
    "features_df = features_df.replace([np.inf,-np.inf],np.nan)\n",
    "\n",
    "# Fill NaN values with the median\n",
    "features=features_df.fillna(features_df.median())\n",
    "features.head(10)"
   ]
  },
  {
   "cell_type": "markdown",
   "metadata": {},
   "source": [
    "# Filter Abnormal User Behaviour\n",
    "This is acomplished with z-score statistics. The aim is to get rid of bias and later only train on the 'average' user experience."
   ]
  },
  {
   "cell_type": "code",
   "execution_count": 41,
   "metadata": {},
   "outputs": [
    {
     "name": "stdout",
     "output_type": "stream",
     "text": [
      "Shape before filtering: (21270, 11)\n",
      "Shape after filtering: (19447, 11)\n"
     ]
    }
   ],
   "source": [
    "columns_to_filter = ['interaction_count', 'time_between_interaction', 'item_count', 'time_on_platform']\n",
    "\n",
    "features_df[columns_to_filter] = features_df[columns_to_filter].apply(zscore)\n",
    "\n",
    "# Define a threshold for filtering outliers\n",
    "z_score_threshold = 3\n",
    "filtered_features_df = features_df[(features_df[columns_to_filter].abs() < z_score_threshold).all(axis=1)]\n",
    "\n",
    "print('Shape before filtering:', features_df.shape)\n",
    "print('Shape after filtering:', filtered_features_df.shape)"
   ]
  },
  {
   "cell_type": "code",
   "execution_count": 42,
   "metadata": {},
   "outputs": [],
   "source": [
    "features_df = filtered_features_df"
   ]
  },
  {
   "cell_type": "code",
   "execution_count": 43,
   "metadata": {},
   "outputs": [
    {
     "data": {
      "text/html": [
       "<div>\n",
       "<style scoped>\n",
       "    .dataframe tbody tr th:only-of-type {\n",
       "        vertical-align: middle;\n",
       "    }\n",
       "\n",
       "    .dataframe tbody tr th {\n",
       "        vertical-align: top;\n",
       "    }\n",
       "\n",
       "    .dataframe thead th {\n",
       "        text-align: right;\n",
       "    }\n",
       "</style>\n",
       "<table border=\"1\" class=\"dataframe\">\n",
       "  <thead>\n",
       "    <tr style=\"text-align: right;\">\n",
       "      <th></th>\n",
       "      <th>visitorid</th>\n",
       "      <th>itemid</th>\n",
       "      <th>interaction_count</th>\n",
       "      <th>time_between_interaction</th>\n",
       "      <th>item_count</th>\n",
       "      <th>avg_interaction_time</th>\n",
       "      <th>time_on_platform</th>\n",
       "      <th>time_between_actions</th>\n",
       "      <th>user_count</th>\n",
       "      <th>event_count</th>\n",
       "      <th>conversion rate</th>\n",
       "    </tr>\n",
       "  </thead>\n",
       "  <tbody>\n",
       "    <tr>\n",
       "      <th>0</th>\n",
       "      <td>172</td>\n",
       "      <td>10034</td>\n",
       "      <td>-0.191796</td>\n",
       "      <td>-0.071393</td>\n",
       "      <td>-0.386080</td>\n",
       "      <td>1.439602e+12</td>\n",
       "      <td>-0.465648</td>\n",
       "      <td>456.0</td>\n",
       "      <td>4</td>\n",
       "      <td>1</td>\n",
       "      <td>NaN</td>\n",
       "    </tr>\n",
       "    <tr>\n",
       "      <th>1</th>\n",
       "      <td>172</td>\n",
       "      <td>465522</td>\n",
       "      <td>-0.191796</td>\n",
       "      <td>-0.071393</td>\n",
       "      <td>-0.386080</td>\n",
       "      <td>1.439602e+12</td>\n",
       "      <td>-0.465648</td>\n",
       "      <td>456.0</td>\n",
       "      <td>10</td>\n",
       "      <td>1</td>\n",
       "      <td>NaN</td>\n",
       "    </tr>\n",
       "    <tr>\n",
       "      <th>2</th>\n",
       "      <td>186</td>\n",
       "      <td>49029</td>\n",
       "      <td>-0.191796</td>\n",
       "      <td>-0.071393</td>\n",
       "      <td>-0.395606</td>\n",
       "      <td>1.439397e+12</td>\n",
       "      <td>-0.465648</td>\n",
       "      <td>NaN</td>\n",
       "      <td>3</td>\n",
       "      <td>1</td>\n",
       "      <td>NaN</td>\n",
       "    </tr>\n",
       "    <tr>\n",
       "      <th>3</th>\n",
       "      <td>264</td>\n",
       "      <td>161949</td>\n",
       "      <td>-0.191796</td>\n",
       "      <td>-0.071393</td>\n",
       "      <td>-0.386080</td>\n",
       "      <td>1.441647e+12</td>\n",
       "      <td>-0.465648</td>\n",
       "      <td>94.0</td>\n",
       "      <td>1</td>\n",
       "      <td>1</td>\n",
       "      <td>NaN</td>\n",
       "    </tr>\n",
       "    <tr>\n",
       "      <th>4</th>\n",
       "      <td>264</td>\n",
       "      <td>459835</td>\n",
       "      <td>-0.191796</td>\n",
       "      <td>-0.071393</td>\n",
       "      <td>-0.386080</td>\n",
       "      <td>1.441647e+12</td>\n",
       "      <td>-0.465648</td>\n",
       "      <td>94.0</td>\n",
       "      <td>4</td>\n",
       "      <td>1</td>\n",
       "      <td>NaN</td>\n",
       "    </tr>\n",
       "  </tbody>\n",
       "</table>\n",
       "</div>"
      ],
      "text/plain": [
       "   visitorid  itemid  interaction_count  time_between_interaction  item_count  \\\n",
       "0        172   10034          -0.191796                 -0.071393   -0.386080   \n",
       "1        172  465522          -0.191796                 -0.071393   -0.386080   \n",
       "2        186   49029          -0.191796                 -0.071393   -0.395606   \n",
       "3        264  161949          -0.191796                 -0.071393   -0.386080   \n",
       "4        264  459835          -0.191796                 -0.071393   -0.386080   \n",
       "\n",
       "   avg_interaction_time  time_on_platform  time_between_actions  user_count  \\\n",
       "0          1.439602e+12         -0.465648                 456.0           4   \n",
       "1          1.439602e+12         -0.465648                 456.0          10   \n",
       "2          1.439397e+12         -0.465648                   NaN           3   \n",
       "3          1.441647e+12         -0.465648                  94.0           1   \n",
       "4          1.441647e+12         -0.465648                  94.0           4   \n",
       "\n",
       "   event_count  conversion rate  \n",
       "0            1              NaN  \n",
       "1            1              NaN  \n",
       "2            1              NaN  \n",
       "3            1              NaN  \n",
       "4            1              NaN  "
      ]
     },
     "execution_count": 43,
     "metadata": {},
     "output_type": "execute_result"
    }
   ],
   "source": [
    "features_df.head(5)"
   ]
  },
  {
   "cell_type": "code",
   "execution_count": 44,
   "metadata": {},
   "outputs": [
    {
     "data": {
      "text/plain": [
       "(22457, 20282)"
      ]
     },
     "execution_count": 44,
     "metadata": {},
     "output_type": "execute_result"
    }
   ],
   "source": [
    "visitor_ids_to_keep = set(features_df.visitorid) # Keep the non-filtered users\n",
    "filtered_events_df = events_df[events_df['visitorid'].isin(visitor_ids_to_keep)]\n",
    "\n",
    "len(events_df), len(filtered_events_df)"
   ]
  },
  {
   "cell_type": "code",
   "execution_count": 45,
   "metadata": {},
   "outputs": [],
   "source": [
    "with open('events_df_cleaned.df', 'wb') as f:\n",
    "    pickle.dump(filtered_events_df, f)"
   ]
  }
 ],
 "metadata": {
  "kernelspec": {
   "display_name": "base",
   "language": "python",
   "name": "python3"
  },
  "language_info": {
   "codemirror_mode": {
    "name": "ipython",
    "version": 3
   },
   "file_extension": ".py",
   "mimetype": "text/x-python",
   "name": "python",
   "nbconvert_exporter": "python",
   "pygments_lexer": "ipython3",
   "version": "3.12.2"
  }
 },
 "nbformat": 4,
 "nbformat_minor": 2
}
